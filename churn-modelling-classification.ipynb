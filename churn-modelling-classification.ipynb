{
 "cells": [
  {
   "cell_type": "markdown",
   "id": "e4597794",
   "metadata": {
    "papermill": {
     "duration": 0.015672,
     "end_time": "2024-09-15T22:47:23.018006",
     "exception": false,
     "start_time": "2024-09-15T22:47:23.002334",
     "status": "completed"
    },
    "tags": []
   },
   "source": [
    "# Logistic Regression \n",
    "- Coded By : <span style=\"color: red;\">Eng.Ahmed Almohamdy</span>"
   ]
  },
  {
   "cell_type": "code",
   "execution_count": 1,
   "id": "503cabcd",
   "metadata": {
    "execution": {
     "iopub.execute_input": "2024-09-15T22:47:23.047616Z",
     "iopub.status.busy": "2024-09-15T22:47:23.047315Z",
     "iopub.status.idle": "2024-09-15T22:47:23.793922Z",
     "shell.execute_reply": "2024-09-15T22:47:23.793019Z"
    },
    "papermill": {
     "duration": 0.763616,
     "end_time": "2024-09-15T22:47:23.795997",
     "exception": false,
     "start_time": "2024-09-15T22:47:23.032381",
     "status": "completed"
    },
    "tags": []
   },
   "outputs": [
    {
     "name": "stdout",
     "output_type": "stream",
     "text": [
      "/kaggle/input/churn-modelling/Churn_Modelling.csv\n"
     ]
    }
   ],
   "source": [
    "# This Python 3 environment comes with many helpful analytics libraries installed\n",
    "# It is defined by the kaggle/python Docker image: https://github.com/kaggle/docker-python\n",
    "# For example, here's several helpful packages to load\n",
    "\n",
    "import numpy as np # linear algebra\n",
    "import pandas as pd # data processing, CSV file I/O (e.g. pd.read_csv)\n",
    "\n",
    "# Input data files are available in the read-only \"../input/\" directory\n",
    "# For example, running this (by clicking run or pressing Shift+Enter) will list all files under the input directory\n",
    "\n",
    "import os\n",
    "for dirname, _, filenames in os.walk('/kaggle/input'):\n",
    "    for filename in filenames:\n",
    "        print(os.path.join(dirname, filename))\n",
    "\n",
    "# You can write up to 20GB to the current directory (/kaggle/working/) that gets preserved as output when you create a version using \"Save & Run All\" \n",
    "# You can also write temporary files to /kaggle/temp/, but they won't be saved outside of the current session"
   ]
  },
  {
   "cell_type": "code",
   "execution_count": 2,
   "id": "32124bd4",
   "metadata": {
    "execution": {
     "iopub.execute_input": "2024-09-15T22:47:23.826362Z",
     "iopub.status.busy": "2024-09-15T22:47:23.825967Z",
     "iopub.status.idle": "2024-09-15T22:47:24.800637Z",
     "shell.execute_reply": "2024-09-15T22:47:24.799832Z"
    },
    "papermill": {
     "duration": 0.992476,
     "end_time": "2024-09-15T22:47:24.803000",
     "exception": false,
     "start_time": "2024-09-15T22:47:23.810524",
     "status": "completed"
    },
    "tags": []
   },
   "outputs": [],
   "source": [
    "import numpy as np\n",
    "import pandas as pd\n",
    "import matplotlib.pyplot as plt\n",
    "%matplotlib inline\n",
    "import sklearn\n",
    "pd.set_option(\"display.max_columns\" , None)"
   ]
  },
  {
   "cell_type": "code",
   "execution_count": 3,
   "id": "6b21ff75",
   "metadata": {
    "execution": {
     "iopub.execute_input": "2024-09-15T22:47:24.833768Z",
     "iopub.status.busy": "2024-09-15T22:47:24.833370Z",
     "iopub.status.idle": "2024-09-15T22:47:24.880776Z",
     "shell.execute_reply": "2024-09-15T22:47:24.879822Z"
    },
    "papermill": {
     "duration": 0.064862,
     "end_time": "2024-09-15T22:47:24.882830",
     "exception": false,
     "start_time": "2024-09-15T22:47:24.817968",
     "status": "completed"
    },
    "tags": []
   },
   "outputs": [],
   "source": [
    "data = pd.read_csv('/kaggle/input/churn-modelling/Churn_Modelling.csv')"
   ]
  },
  {
   "cell_type": "code",
   "execution_count": 4,
   "id": "48a55fe6",
   "metadata": {
    "execution": {
     "iopub.execute_input": "2024-09-15T22:47:24.913807Z",
     "iopub.status.busy": "2024-09-15T22:47:24.913493Z",
     "iopub.status.idle": "2024-09-15T22:47:24.936572Z",
     "shell.execute_reply": "2024-09-15T22:47:24.935748Z"
    },
    "papermill": {
     "duration": 0.040938,
     "end_time": "2024-09-15T22:47:24.938568",
     "exception": false,
     "start_time": "2024-09-15T22:47:24.897630",
     "status": "completed"
    },
    "scrolled": true,
    "tags": []
   },
   "outputs": [
    {
     "data": {
      "text/html": [
       "<div>\n",
       "<style scoped>\n",
       "    .dataframe tbody tr th:only-of-type {\n",
       "        vertical-align: middle;\n",
       "    }\n",
       "\n",
       "    .dataframe tbody tr th {\n",
       "        vertical-align: top;\n",
       "    }\n",
       "\n",
       "    .dataframe thead th {\n",
       "        text-align: right;\n",
       "    }\n",
       "</style>\n",
       "<table border=\"1\" class=\"dataframe\">\n",
       "  <thead>\n",
       "    <tr style=\"text-align: right;\">\n",
       "      <th></th>\n",
       "      <th>RowNumber</th>\n",
       "      <th>CustomerId</th>\n",
       "      <th>Surname</th>\n",
       "      <th>CreditScore</th>\n",
       "      <th>Geography</th>\n",
       "      <th>Gender</th>\n",
       "      <th>Age</th>\n",
       "      <th>Tenure</th>\n",
       "      <th>Balance</th>\n",
       "      <th>NumOfProducts</th>\n",
       "      <th>HasCrCard</th>\n",
       "      <th>IsActiveMember</th>\n",
       "      <th>EstimatedSalary</th>\n",
       "      <th>Exited</th>\n",
       "    </tr>\n",
       "  </thead>\n",
       "  <tbody>\n",
       "    <tr>\n",
       "      <th>0</th>\n",
       "      <td>1</td>\n",
       "      <td>15634602</td>\n",
       "      <td>Hargrave</td>\n",
       "      <td>619</td>\n",
       "      <td>France</td>\n",
       "      <td>Female</td>\n",
       "      <td>42</td>\n",
       "      <td>2</td>\n",
       "      <td>0.00</td>\n",
       "      <td>1</td>\n",
       "      <td>1</td>\n",
       "      <td>1</td>\n",
       "      <td>101348.88</td>\n",
       "      <td>1</td>\n",
       "    </tr>\n",
       "    <tr>\n",
       "      <th>1</th>\n",
       "      <td>2</td>\n",
       "      <td>15647311</td>\n",
       "      <td>Hill</td>\n",
       "      <td>608</td>\n",
       "      <td>Spain</td>\n",
       "      <td>Female</td>\n",
       "      <td>41</td>\n",
       "      <td>1</td>\n",
       "      <td>83807.86</td>\n",
       "      <td>1</td>\n",
       "      <td>0</td>\n",
       "      <td>1</td>\n",
       "      <td>112542.58</td>\n",
       "      <td>0</td>\n",
       "    </tr>\n",
       "    <tr>\n",
       "      <th>2</th>\n",
       "      <td>3</td>\n",
       "      <td>15619304</td>\n",
       "      <td>Onio</td>\n",
       "      <td>502</td>\n",
       "      <td>France</td>\n",
       "      <td>Female</td>\n",
       "      <td>42</td>\n",
       "      <td>8</td>\n",
       "      <td>159660.80</td>\n",
       "      <td>3</td>\n",
       "      <td>1</td>\n",
       "      <td>0</td>\n",
       "      <td>113931.57</td>\n",
       "      <td>1</td>\n",
       "    </tr>\n",
       "    <tr>\n",
       "      <th>3</th>\n",
       "      <td>4</td>\n",
       "      <td>15701354</td>\n",
       "      <td>Boni</td>\n",
       "      <td>699</td>\n",
       "      <td>France</td>\n",
       "      <td>Female</td>\n",
       "      <td>39</td>\n",
       "      <td>1</td>\n",
       "      <td>0.00</td>\n",
       "      <td>2</td>\n",
       "      <td>0</td>\n",
       "      <td>0</td>\n",
       "      <td>93826.63</td>\n",
       "      <td>0</td>\n",
       "    </tr>\n",
       "    <tr>\n",
       "      <th>4</th>\n",
       "      <td>5</td>\n",
       "      <td>15737888</td>\n",
       "      <td>Mitchell</td>\n",
       "      <td>850</td>\n",
       "      <td>Spain</td>\n",
       "      <td>Female</td>\n",
       "      <td>43</td>\n",
       "      <td>2</td>\n",
       "      <td>125510.82</td>\n",
       "      <td>1</td>\n",
       "      <td>1</td>\n",
       "      <td>1</td>\n",
       "      <td>79084.10</td>\n",
       "      <td>0</td>\n",
       "    </tr>\n",
       "  </tbody>\n",
       "</table>\n",
       "</div>"
      ],
      "text/plain": [
       "   RowNumber  CustomerId   Surname  CreditScore Geography  Gender  Age  \\\n",
       "0          1    15634602  Hargrave          619    France  Female   42   \n",
       "1          2    15647311      Hill          608     Spain  Female   41   \n",
       "2          3    15619304      Onio          502    France  Female   42   \n",
       "3          4    15701354      Boni          699    France  Female   39   \n",
       "4          5    15737888  Mitchell          850     Spain  Female   43   \n",
       "\n",
       "   Tenure    Balance  NumOfProducts  HasCrCard  IsActiveMember  \\\n",
       "0       2       0.00              1          1               1   \n",
       "1       1   83807.86              1          0               1   \n",
       "2       8  159660.80              3          1               0   \n",
       "3       1       0.00              2          0               0   \n",
       "4       2  125510.82              1          1               1   \n",
       "\n",
       "   EstimatedSalary  Exited  \n",
       "0        101348.88       1  \n",
       "1        112542.58       0  \n",
       "2        113931.57       1  \n",
       "3         93826.63       0  \n",
       "4         79084.10       0  "
      ]
     },
     "execution_count": 4,
     "metadata": {},
     "output_type": "execute_result"
    }
   ],
   "source": [
    "data.head()"
   ]
  },
  {
   "cell_type": "code",
   "execution_count": 5,
   "id": "6ff7e192",
   "metadata": {
    "execution": {
     "iopub.execute_input": "2024-09-15T22:47:24.970046Z",
     "iopub.status.busy": "2024-09-15T22:47:24.969778Z",
     "iopub.status.idle": "2024-09-15T22:47:24.975051Z",
     "shell.execute_reply": "2024-09-15T22:47:24.974234Z"
    },
    "papermill": {
     "duration": 0.022962,
     "end_time": "2024-09-15T22:47:24.977026",
     "exception": false,
     "start_time": "2024-09-15T22:47:24.954064",
     "status": "completed"
    },
    "tags": []
   },
   "outputs": [
    {
     "data": {
      "text/plain": [
       "(10000, 14)"
      ]
     },
     "execution_count": 5,
     "metadata": {},
     "output_type": "execute_result"
    }
   ],
   "source": [
    "data.shape"
   ]
  },
  {
   "cell_type": "code",
   "execution_count": 6,
   "id": "180f7caf",
   "metadata": {
    "execution": {
     "iopub.execute_input": "2024-09-15T22:47:25.007627Z",
     "iopub.status.busy": "2024-09-15T22:47:25.007367Z",
     "iopub.status.idle": "2024-09-15T22:47:25.016254Z",
     "shell.execute_reply": "2024-09-15T22:47:25.015597Z"
    },
    "papermill": {
     "duration": 0.026447,
     "end_time": "2024-09-15T22:47:25.018150",
     "exception": false,
     "start_time": "2024-09-15T22:47:24.991703",
     "status": "completed"
    },
    "tags": []
   },
   "outputs": [],
   "source": [
    "data.drop(columns=['RowNumber' , 'Surname']  , inplace= True)"
   ]
  },
  {
   "cell_type": "code",
   "execution_count": 7,
   "id": "c36af5a5",
   "metadata": {
    "execution": {
     "iopub.execute_input": "2024-09-15T22:47:25.049363Z",
     "iopub.status.busy": "2024-09-15T22:47:25.049078Z",
     "iopub.status.idle": "2024-09-15T22:47:25.061778Z",
     "shell.execute_reply": "2024-09-15T22:47:25.060982Z"
    },
    "papermill": {
     "duration": 0.030167,
     "end_time": "2024-09-15T22:47:25.063698",
     "exception": false,
     "start_time": "2024-09-15T22:47:25.033531",
     "status": "completed"
    },
    "tags": []
   },
   "outputs": [
    {
     "data": {
      "text/html": [
       "<div>\n",
       "<style scoped>\n",
       "    .dataframe tbody tr th:only-of-type {\n",
       "        vertical-align: middle;\n",
       "    }\n",
       "\n",
       "    .dataframe tbody tr th {\n",
       "        vertical-align: top;\n",
       "    }\n",
       "\n",
       "    .dataframe thead th {\n",
       "        text-align: right;\n",
       "    }\n",
       "</style>\n",
       "<table border=\"1\" class=\"dataframe\">\n",
       "  <thead>\n",
       "    <tr style=\"text-align: right;\">\n",
       "      <th></th>\n",
       "      <th>CustomerId</th>\n",
       "      <th>CreditScore</th>\n",
       "      <th>Geography</th>\n",
       "      <th>Gender</th>\n",
       "      <th>Age</th>\n",
       "      <th>Tenure</th>\n",
       "      <th>Balance</th>\n",
       "      <th>NumOfProducts</th>\n",
       "      <th>HasCrCard</th>\n",
       "      <th>IsActiveMember</th>\n",
       "      <th>EstimatedSalary</th>\n",
       "      <th>Exited</th>\n",
       "    </tr>\n",
       "  </thead>\n",
       "  <tbody>\n",
       "    <tr>\n",
       "      <th>0</th>\n",
       "      <td>15634602</td>\n",
       "      <td>619</td>\n",
       "      <td>France</td>\n",
       "      <td>Female</td>\n",
       "      <td>42</td>\n",
       "      <td>2</td>\n",
       "      <td>0.00</td>\n",
       "      <td>1</td>\n",
       "      <td>1</td>\n",
       "      <td>1</td>\n",
       "      <td>101348.88</td>\n",
       "      <td>1</td>\n",
       "    </tr>\n",
       "    <tr>\n",
       "      <th>1</th>\n",
       "      <td>15647311</td>\n",
       "      <td>608</td>\n",
       "      <td>Spain</td>\n",
       "      <td>Female</td>\n",
       "      <td>41</td>\n",
       "      <td>1</td>\n",
       "      <td>83807.86</td>\n",
       "      <td>1</td>\n",
       "      <td>0</td>\n",
       "      <td>1</td>\n",
       "      <td>112542.58</td>\n",
       "      <td>0</td>\n",
       "    </tr>\n",
       "    <tr>\n",
       "      <th>2</th>\n",
       "      <td>15619304</td>\n",
       "      <td>502</td>\n",
       "      <td>France</td>\n",
       "      <td>Female</td>\n",
       "      <td>42</td>\n",
       "      <td>8</td>\n",
       "      <td>159660.80</td>\n",
       "      <td>3</td>\n",
       "      <td>1</td>\n",
       "      <td>0</td>\n",
       "      <td>113931.57</td>\n",
       "      <td>1</td>\n",
       "    </tr>\n",
       "    <tr>\n",
       "      <th>3</th>\n",
       "      <td>15701354</td>\n",
       "      <td>699</td>\n",
       "      <td>France</td>\n",
       "      <td>Female</td>\n",
       "      <td>39</td>\n",
       "      <td>1</td>\n",
       "      <td>0.00</td>\n",
       "      <td>2</td>\n",
       "      <td>0</td>\n",
       "      <td>0</td>\n",
       "      <td>93826.63</td>\n",
       "      <td>0</td>\n",
       "    </tr>\n",
       "    <tr>\n",
       "      <th>4</th>\n",
       "      <td>15737888</td>\n",
       "      <td>850</td>\n",
       "      <td>Spain</td>\n",
       "      <td>Female</td>\n",
       "      <td>43</td>\n",
       "      <td>2</td>\n",
       "      <td>125510.82</td>\n",
       "      <td>1</td>\n",
       "      <td>1</td>\n",
       "      <td>1</td>\n",
       "      <td>79084.10</td>\n",
       "      <td>0</td>\n",
       "    </tr>\n",
       "  </tbody>\n",
       "</table>\n",
       "</div>"
      ],
      "text/plain": [
       "   CustomerId  CreditScore Geography  Gender  Age  Tenure    Balance  \\\n",
       "0    15634602          619    France  Female   42       2       0.00   \n",
       "1    15647311          608     Spain  Female   41       1   83807.86   \n",
       "2    15619304          502    France  Female   42       8  159660.80   \n",
       "3    15701354          699    France  Female   39       1       0.00   \n",
       "4    15737888          850     Spain  Female   43       2  125510.82   \n",
       "\n",
       "   NumOfProducts  HasCrCard  IsActiveMember  EstimatedSalary  Exited  \n",
       "0              1          1               1        101348.88       1  \n",
       "1              1          0               1        112542.58       0  \n",
       "2              3          1               0        113931.57       1  \n",
       "3              2          0               0         93826.63       0  \n",
       "4              1          1               1         79084.10       0  "
      ]
     },
     "execution_count": 7,
     "metadata": {},
     "output_type": "execute_result"
    }
   ],
   "source": [
    "data.head()"
   ]
  },
  {
   "cell_type": "code",
   "execution_count": 8,
   "id": "5a8a3938",
   "metadata": {
    "execution": {
     "iopub.execute_input": "2024-09-15T22:47:25.094835Z",
     "iopub.status.busy": "2024-09-15T22:47:25.094525Z",
     "iopub.status.idle": "2024-09-15T22:47:25.199612Z",
     "shell.execute_reply": "2024-09-15T22:47:25.198914Z"
    },
    "papermill": {
     "duration": 0.122934,
     "end_time": "2024-09-15T22:47:25.201714",
     "exception": false,
     "start_time": "2024-09-15T22:47:25.078780",
     "status": "completed"
    },
    "tags": []
   },
   "outputs": [],
   "source": [
    "from sklearn.model_selection import train_test_split\n",
    "train_data , validation_data = train_test_split(data , test_size= .2 , random_state=2022) "
   ]
  },
  {
   "cell_type": "code",
   "execution_count": 9,
   "id": "a4978719",
   "metadata": {
    "execution": {
     "iopub.execute_input": "2024-09-15T22:47:25.234055Z",
     "iopub.status.busy": "2024-09-15T22:47:25.233759Z",
     "iopub.status.idle": "2024-09-15T22:47:25.259577Z",
     "shell.execute_reply": "2024-09-15T22:47:25.258717Z"
    },
    "papermill": {
     "duration": 0.043673,
     "end_time": "2024-09-15T22:47:25.261468",
     "exception": false,
     "start_time": "2024-09-15T22:47:25.217795",
     "status": "completed"
    },
    "tags": []
   },
   "outputs": [],
   "source": [
    "num_cols = list(set(train_data.describe().columns) - set(['CustomerId']))\n",
    "cat_cols = list(set(train_data.columns) - set(num_cols) - set(['CustomerId']))"
   ]
  },
  {
   "cell_type": "code",
   "execution_count": 10,
   "id": "57140234",
   "metadata": {
    "execution": {
     "iopub.execute_input": "2024-09-15T22:47:25.292332Z",
     "iopub.status.busy": "2024-09-15T22:47:25.292052Z",
     "iopub.status.idle": "2024-09-15T22:47:29.029396Z",
     "shell.execute_reply": "2024-09-15T22:47:29.028517Z"
    },
    "papermill": {
     "duration": 3.756485,
     "end_time": "2024-09-15T22:47:29.032759",
     "exception": false,
     "start_time": "2024-09-15T22:47:25.276274",
     "status": "completed"
    },
    "tags": []
   },
   "outputs": [
    {
     "data": {
      "image/png": "[encoded data removed]",
      "text/plain": [
       "<Figure size 2000x1500 with 9 Axes>"
      ]
     },
     "metadata": {},
     "output_type": "display_data"
    }
   ],
   "source": [
    "train_data[num_cols].hist(bins=100 , figsize=(20,15));"
   ]
  },
  {
   "cell_type": "code",
   "execution_count": 11,
   "id": "bf3050ec",
   "metadata": {
    "execution": {
     "iopub.execute_input": "2024-09-15T22:47:29.067403Z",
     "iopub.status.busy": "2024-09-15T22:47:29.067110Z",
     "iopub.status.idle": "2024-09-15T22:47:29.080335Z",
     "shell.execute_reply": "2024-09-15T22:47:29.079596Z"
    },
    "papermill": {
     "duration": 0.032661,
     "end_time": "2024-09-15T22:47:29.082400",
     "exception": false,
     "start_time": "2024-09-15T22:47:29.049739",
     "status": "completed"
    },
    "tags": []
   },
   "outputs": [],
   "source": [
    "#making dataframes each of them contains the categories of a catgegorical variable and theire frequencies\n",
    "df_list=[]\n",
    "for cat_column in cat_cols:\n",
    "    df_list.append(train_data.groupby([cat_column])['CustomerId'].count().reset_index().rename(columns = {'CustomerId' : 'count'}))"
   ]
  },
  {
   "cell_type": "code",
   "execution_count": 12,
   "id": "491b55cc",
   "metadata": {
    "execution": {
     "iopub.execute_input": "2024-09-15T22:47:29.117413Z",
     "iopub.status.busy": "2024-09-15T22:47:29.117114Z",
     "iopub.status.idle": "2024-09-15T22:47:29.350861Z",
     "shell.execute_reply": "2024-09-15T22:47:29.349902Z"
    },
    "papermill": {
     "duration": 0.253191,
     "end_time": "2024-09-15T22:47:29.352780",
     "exception": false,
     "start_time": "2024-09-15T22:47:29.099589",
     "status": "completed"
    },
    "tags": []
   },
   "outputs": [
    {
     "data": {
      "image/png": "[encoded data removed]",
      "text/plain": [
       "<Figure size 1000x300 with 2 Axes>"
      ]
     },
     "metadata": {},
     "output_type": "display_data"
    }
   ],
   "source": [
    "fig, axes = plt.subplots(nrows=1, ncols=2, figsize=(10,3))\n",
    "i=0\n",
    "j=0\n",
    "for df in df_list:\n",
    "    axes[j].bar(df.iloc[:, 0],df.iloc[:, 1], color ='maroon')\n",
    "    axes[j].set_title(df.columns[0])\n",
    "    if(j<1):\n",
    "        j+=1\n",
    "    \n",
    "plt.show()"
   ]
  },
  {
   "cell_type": "code",
   "execution_count": 13,
   "id": "df543032",
   "metadata": {
    "execution": {
     "iopub.execute_input": "2024-09-15T22:47:29.387237Z",
     "iopub.status.busy": "2024-09-15T22:47:29.386962Z",
     "iopub.status.idle": "2024-09-15T22:47:29.395706Z",
     "shell.execute_reply": "2024-09-15T22:47:29.394934Z"
    },
    "papermill": {
     "duration": 0.028143,
     "end_time": "2024-09-15T22:47:29.397536",
     "exception": false,
     "start_time": "2024-09-15T22:47:29.369393",
     "status": "completed"
    },
    "tags": []
   },
   "outputs": [
    {
     "data": {
      "text/plain": [
       "CustomerId         0\n",
       "CreditScore        0\n",
       "Geography          0\n",
       "Gender             0\n",
       "Age                0\n",
       "Tenure             0\n",
       "Balance            0\n",
       "NumOfProducts      0\n",
       "HasCrCard          0\n",
       "IsActiveMember     0\n",
       "EstimatedSalary    0\n",
       "Exited             0\n",
       "dtype: int64"
      ]
     },
     "execution_count": 13,
     "metadata": {},
     "output_type": "execute_result"
    }
   ],
   "source": [
    "train_data.isna().sum()"
   ]
  },
  {
   "cell_type": "markdown",
   "id": "e5358801",
   "metadata": {
    "papermill": {
     "duration": 0.016526,
     "end_time": "2024-09-15T22:47:29.430776",
     "exception": false,
     "start_time": "2024-09-15T22:47:29.414250",
     "status": "completed"
    },
    "tags": []
   },
   "source": [
    "### Dropping any column which has 80% of values with the same value \n"
   ]
  },
  {
   "cell_type": "code",
   "execution_count": 14,
   "id": "7707236c",
   "metadata": {
    "execution": {
     "iopub.execute_input": "2024-09-15T22:47:29.465571Z",
     "iopub.status.busy": "2024-09-15T22:47:29.465256Z",
     "iopub.status.idle": "2024-09-15T22:47:29.490119Z",
     "shell.execute_reply": "2024-09-15T22:47:29.489455Z"
    },
    "papermill": {
     "duration": 0.044494,
     "end_time": "2024-09-15T22:47:29.491956",
     "exception": false,
     "start_time": "2024-09-15T22:47:29.447462",
     "status": "completed"
    },
    "tags": []
   },
   "outputs": [],
   "source": [
    "num_cols = list(set(train_data.describe().columns.to_list()) - set(['CustomerId']))\n",
    "cat_cols = list(set(train_data.columns.to_list()) - set(num_cols) - set(['CustomerId']))\n",
    "\n",
    "def drop_redundant_coulmns(train_data , columns_type ):\n",
    "    check_value = (80/100) * train_data.shape[0]\n",
    "    droped_cols = []\n",
    "    for col in columns_type:\n",
    "        ma_x = max(train_data.groupby([col])['CustomerId'].count())\n",
    "        if ma_x >= check_value :\n",
    "            droped_cols.append(col)\n",
    "            train_data.drop(columns= [col], inplace=True)\n",
    "    return droped_cols  "
   ]
  },
  {
   "cell_type": "code",
   "execution_count": 15,
   "id": "ab057ce0",
   "metadata": {
    "execution": {
     "iopub.execute_input": "2024-09-15T22:47:29.527629Z",
     "iopub.status.busy": "2024-09-15T22:47:29.527359Z",
     "iopub.status.idle": "2024-09-15T22:47:29.541496Z",
     "shell.execute_reply": "2024-09-15T22:47:29.540664Z"
    },
    "papermill": {
     "duration": 0.034589,
     "end_time": "2024-09-15T22:47:29.543301",
     "exception": false,
     "start_time": "2024-09-15T22:47:29.508712",
     "status": "completed"
    },
    "tags": []
   },
   "outputs": [
    {
     "data": {
      "text/plain": [
       "[]"
      ]
     },
     "execution_count": 15,
     "metadata": {},
     "output_type": "execute_result"
    }
   ],
   "source": [
    "drop_redundant_coulmns(train_data , num_cols)"
   ]
  },
  {
   "cell_type": "code",
   "execution_count": 16,
   "id": "8f94a911",
   "metadata": {
    "execution": {
     "iopub.execute_input": "2024-09-15T22:47:29.578477Z",
     "iopub.status.busy": "2024-09-15T22:47:29.578171Z",
     "iopub.status.idle": "2024-09-15T22:47:29.586125Z",
     "shell.execute_reply": "2024-09-15T22:47:29.585168Z"
    },
    "papermill": {
     "duration": 0.028072,
     "end_time": "2024-09-15T22:47:29.588188",
     "exception": false,
     "start_time": "2024-09-15T22:47:29.560116",
     "status": "completed"
    },
    "tags": []
   },
   "outputs": [
    {
     "data": {
      "text/plain": [
       "[]"
      ]
     },
     "execution_count": 16,
     "metadata": {},
     "output_type": "execute_result"
    }
   ],
   "source": [
    "drop_redundant_coulmns(train_data , cat_cols)"
   ]
  },
  {
   "cell_type": "code",
   "execution_count": 17,
   "id": "e43fc059",
   "metadata": {
    "execution": {
     "iopub.execute_input": "2024-09-15T22:47:29.624817Z",
     "iopub.status.busy": "2024-09-15T22:47:29.624320Z",
     "iopub.status.idle": "2024-09-15T22:47:29.646669Z",
     "shell.execute_reply": "2024-09-15T22:47:29.645815Z"
    },
    "papermill": {
     "duration": 0.042046,
     "end_time": "2024-09-15T22:47:29.648637",
     "exception": false,
     "start_time": "2024-09-15T22:47:29.606591",
     "status": "completed"
    },
    "tags": []
   },
   "outputs": [],
   "source": [
    "num_cols = list(set(train_data.describe().columns.to_list()) - set(['CustomerId','HasCrCard','IsActiveMember','Exited']))\n",
    "cat_cols = list(set(train_data.columns.to_list()) - set(num_cols) - set(['CustomerId','HasCrCard','IsActiveMember','Exited']))"
   ]
  },
  {
   "cell_type": "markdown",
   "id": "797bb4dd",
   "metadata": {
    "papermill": {
     "duration": 0.01676,
     "end_time": "2024-09-15T22:47:29.682338",
     "exception": false,
     "start_time": "2024-09-15T22:47:29.665578",
     "status": "completed"
    },
    "tags": []
   },
   "source": [
    "# Handling Outliers \n",
    "- lower band = q1 - (1.5*IQR)\n",
    "- Upper band = q3 + (1.5*IQR)"
   ]
  },
  {
   "cell_type": "markdown",
   "id": "d1de06cf",
   "metadata": {
    "papermill": {
     "duration": 0.016676,
     "end_time": "2024-09-15T22:47:29.715908",
     "exception": false,
     "start_time": "2024-09-15T22:47:29.699232",
     "status": "completed"
    },
    "tags": []
   },
   "source": [
    "# Skewness Handling"
   ]
  },
  {
   "cell_type": "code",
   "execution_count": 18,
   "id": "68a9a26e",
   "metadata": {
    "execution": {
     "iopub.execute_input": "2024-09-15T22:47:29.751570Z",
     "iopub.status.busy": "2024-09-15T22:47:29.750887Z",
     "iopub.status.idle": "2024-09-15T22:47:29.756315Z",
     "shell.execute_reply": "2024-09-15T22:47:29.755443Z"
    },
    "papermill": {
     "duration": 0.025596,
     "end_time": "2024-09-15T22:47:29.758323",
     "exception": false,
     "start_time": "2024-09-15T22:47:29.732727",
     "status": "completed"
    },
    "tags": []
   },
   "outputs": [],
   "source": [
    "def calc_skewness(train_data , num_cols):\n",
    "    N = train_data.shape[0]\n",
    "#     skewness_dic ={}\n",
    "    skewness_coef =[]\n",
    "    for col in num_cols:\n",
    "        skewness =np.sum((train_data[col] - np.mean(train_data[col]))**3) / ((N-1) * (np.std(train_data[col])**3))\n",
    "#         skewness_dic.update({col:skewness})\n",
    "        skewness_coef.append(skewness)\n",
    "    return skewness_coef "
   ]
  },
  {
   "cell_type": "code",
   "execution_count": 19,
   "id": "9e45e77a",
   "metadata": {
    "execution": {
     "iopub.execute_input": "2024-09-15T22:47:29.794017Z",
     "iopub.status.busy": "2024-09-15T22:47:29.793753Z",
     "iopub.status.idle": "2024-09-15T22:47:29.806807Z",
     "shell.execute_reply": "2024-09-15T22:47:29.805974Z"
    },
    "papermill": {
     "duration": 0.032753,
     "end_time": "2024-09-15T22:47:29.808574",
     "exception": false,
     "start_time": "2024-09-15T22:47:29.775821",
     "status": "completed"
    },
    "tags": []
   },
   "outputs": [
    {
     "data": {
      "text/plain": [
       "[1.0183075354502267,\n",
       " 0.0042880099133986395,\n",
       " 0.7744037329292706,\n",
       " 0.00611867655929146,\n",
       " -0.0680885313350836,\n",
       " -0.14295552594969602]"
      ]
     },
     "execution_count": 19,
     "metadata": {},
     "output_type": "execute_result"
    }
   ],
   "source": [
    "skewness_coef = calc_skewness(train_data , num_cols)\n",
    "skewness_coef"
   ]
  },
  {
   "cell_type": "code",
   "execution_count": 20,
   "id": "c2a556f6",
   "metadata": {
    "execution": {
     "iopub.execute_input": "2024-09-15T22:47:29.843781Z",
     "iopub.status.busy": "2024-09-15T22:47:29.843469Z",
     "iopub.status.idle": "2024-09-15T22:47:29.848914Z",
     "shell.execute_reply": "2024-09-15T22:47:29.848064Z"
    },
    "papermill": {
     "duration": 0.025237,
     "end_time": "2024-09-15T22:47:29.850799",
     "exception": false,
     "start_time": "2024-09-15T22:47:29.825562",
     "status": "completed"
    },
    "tags": []
   },
   "outputs": [],
   "source": [
    "def log_transform(train_data , num_cols):\n",
    "    skewness_coef = calc_skewness(train_data , num_cols)\n",
    "    i=0\n",
    "    for col in num_cols:\n",
    "        if np.abs(skewness_coef[i]) > 1:\n",
    "            train_data[col] = np.log(1+ np.abs( train_data[col]))\n",
    "            validation_data[col] = np.log(1+ np.abs( validation_data[col]))\n",
    "            print(col)\n",
    "\n",
    "        i+=1    \n",
    "        \n",
    "    return train_data    "
   ]
  },
  {
   "cell_type": "code",
   "execution_count": 21,
   "id": "8afa028c",
   "metadata": {
    "execution": {
     "iopub.execute_input": "2024-09-15T22:47:29.886107Z",
     "iopub.status.busy": "2024-09-15T22:47:29.885813Z",
     "iopub.status.idle": "2024-09-15T22:47:29.910334Z",
     "shell.execute_reply": "2024-09-15T22:47:29.909496Z"
    },
    "papermill": {
     "duration": 0.044321,
     "end_time": "2024-09-15T22:47:29.912302",
     "exception": false,
     "start_time": "2024-09-15T22:47:29.867981",
     "status": "completed"
    },
    "scrolled": true,
    "tags": []
   },
   "outputs": [
    {
     "name": "stdout",
     "output_type": "stream",
     "text": [
      "Age\n"
     ]
    },
    {
     "data": {
      "text/html": [
       "<div>\n",
       "<style scoped>\n",
       "    .dataframe tbody tr th:only-of-type {\n",
       "        vertical-align: middle;\n",
       "    }\n",
       "\n",
       "    .dataframe tbody tr th {\n",
       "        vertical-align: top;\n",
       "    }\n",
       "\n",
       "    .dataframe thead th {\n",
       "        text-align: right;\n",
       "    }\n",
       "</style>\n",
       "<table border=\"1\" class=\"dataframe\">\n",
       "  <thead>\n",
       "    <tr style=\"text-align: right;\">\n",
       "      <th></th>\n",
       "      <th>CustomerId</th>\n",
       "      <th>CreditScore</th>\n",
       "      <th>Geography</th>\n",
       "      <th>Gender</th>\n",
       "      <th>Age</th>\n",
       "      <th>Tenure</th>\n",
       "      <th>Balance</th>\n",
       "      <th>NumOfProducts</th>\n",
       "      <th>HasCrCard</th>\n",
       "      <th>IsActiveMember</th>\n",
       "      <th>EstimatedSalary</th>\n",
       "      <th>Exited</th>\n",
       "    </tr>\n",
       "  </thead>\n",
       "  <tbody>\n",
       "    <tr>\n",
       "      <th>5516</th>\n",
       "      <td>15569878</td>\n",
       "      <td>592</td>\n",
       "      <td>France</td>\n",
       "      <td>Male</td>\n",
       "      <td>3.637586</td>\n",
       "      <td>3</td>\n",
       "      <td>96651.03</td>\n",
       "      <td>1</td>\n",
       "      <td>1</td>\n",
       "      <td>1</td>\n",
       "      <td>3232.82</td>\n",
       "      <td>0</td>\n",
       "    </tr>\n",
       "    <tr>\n",
       "      <th>1255</th>\n",
       "      <td>15615032</td>\n",
       "      <td>624</td>\n",
       "      <td>Spain</td>\n",
       "      <td>Male</td>\n",
       "      <td>3.850148</td>\n",
       "      <td>3</td>\n",
       "      <td>0.00</td>\n",
       "      <td>2</td>\n",
       "      <td>1</td>\n",
       "      <td>1</td>\n",
       "      <td>62825.03</td>\n",
       "      <td>0</td>\n",
       "    </tr>\n",
       "    <tr>\n",
       "      <th>4319</th>\n",
       "      <td>15759456</td>\n",
       "      <td>609</td>\n",
       "      <td>Spain</td>\n",
       "      <td>Male</td>\n",
       "      <td>3.555348</td>\n",
       "      <td>7</td>\n",
       "      <td>140694.78</td>\n",
       "      <td>2</td>\n",
       "      <td>1</td>\n",
       "      <td>0</td>\n",
       "      <td>46266.63</td>\n",
       "      <td>0</td>\n",
       "    </tr>\n",
       "    <tr>\n",
       "      <th>9372</th>\n",
       "      <td>15775826</td>\n",
       "      <td>677</td>\n",
       "      <td>France</td>\n",
       "      <td>Male</td>\n",
       "      <td>3.433987</td>\n",
       "      <td>1</td>\n",
       "      <td>78133.15</td>\n",
       "      <td>1</td>\n",
       "      <td>0</td>\n",
       "      <td>1</td>\n",
       "      <td>174225.88</td>\n",
       "      <td>0</td>\n",
       "    </tr>\n",
       "    <tr>\n",
       "      <th>1723</th>\n",
       "      <td>15567422</td>\n",
       "      <td>630</td>\n",
       "      <td>France</td>\n",
       "      <td>Male</td>\n",
       "      <td>3.761200</td>\n",
       "      <td>6</td>\n",
       "      <td>0.00</td>\n",
       "      <td>2</td>\n",
       "      <td>1</td>\n",
       "      <td>0</td>\n",
       "      <td>162697.93</td>\n",
       "      <td>0</td>\n",
       "    </tr>\n",
       "    <tr>\n",
       "      <th>...</th>\n",
       "      <td>...</td>\n",
       "      <td>...</td>\n",
       "      <td>...</td>\n",
       "      <td>...</td>\n",
       "      <td>...</td>\n",
       "      <td>...</td>\n",
       "      <td>...</td>\n",
       "      <td>...</td>\n",
       "      <td>...</td>\n",
       "      <td>...</td>\n",
       "      <td>...</td>\n",
       "      <td>...</td>\n",
       "    </tr>\n",
       "    <tr>\n",
       "      <th>6384</th>\n",
       "      <td>15812073</td>\n",
       "      <td>529</td>\n",
       "      <td>France</td>\n",
       "      <td>Female</td>\n",
       "      <td>3.465736</td>\n",
       "      <td>7</td>\n",
       "      <td>0.00</td>\n",
       "      <td>2</td>\n",
       "      <td>1</td>\n",
       "      <td>1</td>\n",
       "      <td>175697.87</td>\n",
       "      <td>0</td>\n",
       "    </tr>\n",
       "    <tr>\n",
       "      <th>4720</th>\n",
       "      <td>15780654</td>\n",
       "      <td>619</td>\n",
       "      <td>Germany</td>\n",
       "      <td>Female</td>\n",
       "      <td>3.526361</td>\n",
       "      <td>3</td>\n",
       "      <td>100488.92</td>\n",
       "      <td>2</td>\n",
       "      <td>0</td>\n",
       "      <td>1</td>\n",
       "      <td>36446.74</td>\n",
       "      <td>0</td>\n",
       "    </tr>\n",
       "    <tr>\n",
       "      <th>173</th>\n",
       "      <td>15586310</td>\n",
       "      <td>578</td>\n",
       "      <td>France</td>\n",
       "      <td>Male</td>\n",
       "      <td>3.433987</td>\n",
       "      <td>4</td>\n",
       "      <td>169462.09</td>\n",
       "      <td>1</td>\n",
       "      <td>1</td>\n",
       "      <td>0</td>\n",
       "      <td>112187.11</td>\n",
       "      <td>0</td>\n",
       "    </tr>\n",
       "    <tr>\n",
       "      <th>1244</th>\n",
       "      <td>15616709</td>\n",
       "      <td>587</td>\n",
       "      <td>Germany</td>\n",
       "      <td>Female</td>\n",
       "      <td>3.663562</td>\n",
       "      <td>0</td>\n",
       "      <td>132122.42</td>\n",
       "      <td>2</td>\n",
       "      <td>0</td>\n",
       "      <td>0</td>\n",
       "      <td>31730.32</td>\n",
       "      <td>0</td>\n",
       "    </tr>\n",
       "    <tr>\n",
       "      <th>4989</th>\n",
       "      <td>15602851</td>\n",
       "      <td>629</td>\n",
       "      <td>France</td>\n",
       "      <td>Male</td>\n",
       "      <td>3.713572</td>\n",
       "      <td>9</td>\n",
       "      <td>0.00</td>\n",
       "      <td>1</td>\n",
       "      <td>1</td>\n",
       "      <td>0</td>\n",
       "      <td>106.67</td>\n",
       "      <td>0</td>\n",
       "    </tr>\n",
       "  </tbody>\n",
       "</table>\n",
       "<p>8000 rows × 12 columns</p>\n",
       "</div>"
      ],
      "text/plain": [
       "      CustomerId  CreditScore Geography  Gender       Age  Tenure    Balance  \\\n",
       "5516    15569878          592    France    Male  3.637586       3   96651.03   \n",
       "1255    15615032          624     Spain    Male  3.850148       3       0.00   \n",
       "4319    15759456          609     Spain    Male  3.555348       7  140694.78   \n",
       "9372    15775826          677    France    Male  3.433987       1   78133.15   \n",
       "1723    15567422          630    France    Male  3.761200       6       0.00   \n",
       "...          ...          ...       ...     ...       ...     ...        ...   \n",
       "6384    15812073          529    France  Female  3.465736       7       0.00   \n",
       "4720    15780654          619   Germany  Female  3.526361       3  100488.92   \n",
       "173     15586310          578    France    Male  3.433987       4  169462.09   \n",
       "1244    15616709          587   Germany  Female  3.663562       0  132122.42   \n",
       "4989    15602851          629    France    Male  3.713572       9       0.00   \n",
       "\n",
       "      NumOfProducts  HasCrCard  IsActiveMember  EstimatedSalary  Exited  \n",
       "5516              1          1               1          3232.82       0  \n",
       "1255              2          1               1         62825.03       0  \n",
       "4319              2          1               0         46266.63       0  \n",
       "9372              1          0               1        174225.88       0  \n",
       "1723              2          1               0        162697.93       0  \n",
       "...             ...        ...             ...              ...     ...  \n",
       "6384              2          1               1        175697.87       0  \n",
       "4720              2          0               1         36446.74       0  \n",
       "173               1          1               0        112187.11       0  \n",
       "1244              2          0               0         31730.32       0  \n",
       "4989              1          1               0           106.67       0  \n",
       "\n",
       "[8000 rows x 12 columns]"
      ]
     },
     "execution_count": 21,
     "metadata": {},
     "output_type": "execute_result"
    }
   ],
   "source": [
    "log_transform(train_data , num_cols)"
   ]
  },
  {
   "cell_type": "code",
   "execution_count": 22,
   "id": "4cc6cd22",
   "metadata": {
    "execution": {
     "iopub.execute_input": "2024-09-15T22:47:29.949393Z",
     "iopub.status.busy": "2024-09-15T22:47:29.949104Z",
     "iopub.status.idle": "2024-09-15T22:47:29.960625Z",
     "shell.execute_reply": "2024-09-15T22:47:29.959164Z"
    },
    "papermill": {
     "duration": 0.032298,
     "end_time": "2024-09-15T22:47:29.962664",
     "exception": false,
     "start_time": "2024-09-15T22:47:29.930366",
     "status": "completed"
    },
    "tags": []
   },
   "outputs": [
    {
     "name": "stdout",
     "output_type": "stream",
     "text": [
      "Age does not look Gaussian (reject H0)\n",
      "W_Statistic=0.988, p=0.00053633 \n",
      "\n",
      "Tenure does not look Gaussian (reject H0)\n",
      "W_Statistic=0.946, p=0.00000000 \n",
      "\n",
      "NumOfProducts does not look Gaussian (reject H0)\n",
      "W_Statistic=0.693, p=0.00000000 \n",
      "\n",
      "EstimatedSalary does not look Gaussian (reject H0)\n",
      "W_Statistic=0.959, p=0.00000000 \n",
      "\n",
      "CreditScore looks like gaussian (fail to reject H0)\n",
      "W_Statistic=0.991, p=0.00429985 \n",
      "\n",
      "Balance does not look Gaussian (reject H0)\n",
      "W_Statistic=0.831, p=0.00000000 \n",
      "\n"
     ]
    }
   ],
   "source": [
    "feats_std_scale = []\n",
    "feats_min_max_scale = []\n",
    "sample_data = train_data.sample(replace=False , n= 500)\n",
    "from scipy.stats import shapiro\n",
    "for col in num_cols:\n",
    "    w_stat, p = shapiro(sample_data[col])\n",
    "    \n",
    "\n",
    "    alpha = .001\n",
    "    if p > alpha:\n",
    "        print(f'{col} looks like gaussian (fail to reject H0)')\n",
    "        print('W_Statistic=%.3f, p=%.8f \\n' % (w_stat, p))\n",
    "        feats_std_scale.append(col)\n",
    "    else:\n",
    "        print(f'{col} does not look Gaussian (reject H0)')\n",
    "        print('W_Statistic=%.3f, p=%.8f \\n' % (w_stat, p))\n",
    "        feats_min_max_scale.append(col)"
   ]
  },
  {
   "cell_type": "code",
   "execution_count": 23,
   "id": "2bf242e3",
   "metadata": {
    "execution": {
     "iopub.execute_input": "2024-09-15T22:47:29.999731Z",
     "iopub.status.busy": "2024-09-15T22:47:29.999390Z",
     "iopub.status.idle": "2024-09-15T22:47:30.004925Z",
     "shell.execute_reply": "2024-09-15T22:47:30.004054Z"
    },
    "papermill": {
     "duration": 0.026255,
     "end_time": "2024-09-15T22:47:30.006834",
     "exception": false,
     "start_time": "2024-09-15T22:47:29.980579",
     "status": "completed"
    },
    "tags": []
   },
   "outputs": [
    {
     "data": {
      "text/plain": [
       "['CreditScore']"
      ]
     },
     "execution_count": 23,
     "metadata": {},
     "output_type": "execute_result"
    }
   ],
   "source": [
    "feats_std_scale"
   ]
  },
  {
   "cell_type": "code",
   "execution_count": 24,
   "id": "919a1cf4",
   "metadata": {
    "execution": {
     "iopub.execute_input": "2024-09-15T22:47:30.044324Z",
     "iopub.status.busy": "2024-09-15T22:47:30.044037Z",
     "iopub.status.idle": "2024-09-15T22:47:30.049422Z",
     "shell.execute_reply": "2024-09-15T22:47:30.048561Z"
    },
    "papermill": {
     "duration": 0.026507,
     "end_time": "2024-09-15T22:47:30.051282",
     "exception": false,
     "start_time": "2024-09-15T22:47:30.024775",
     "status": "completed"
    },
    "tags": []
   },
   "outputs": [
    {
     "data": {
      "text/plain": [
       "['Age', 'Tenure', 'NumOfProducts', 'EstimatedSalary', 'Balance']"
      ]
     },
     "execution_count": 24,
     "metadata": {},
     "output_type": "execute_result"
    }
   ],
   "source": [
    "feats_min_max_scale "
   ]
  },
  {
   "cell_type": "code",
   "execution_count": 25,
   "id": "4106b0d3",
   "metadata": {
    "execution": {
     "iopub.execute_input": "2024-09-15T22:47:30.088947Z",
     "iopub.status.busy": "2024-09-15T22:47:30.088619Z",
     "iopub.status.idle": "2024-09-15T22:47:30.102705Z",
     "shell.execute_reply": "2024-09-15T22:47:30.101840Z"
    },
    "papermill": {
     "duration": 0.035268,
     "end_time": "2024-09-15T22:47:30.104569",
     "exception": false,
     "start_time": "2024-09-15T22:47:30.069301",
     "status": "completed"
    },
    "tags": []
   },
   "outputs": [
    {
     "data": {
      "text/html": [
       "<div>\n",
       "<style scoped>\n",
       "    .dataframe tbody tr th:only-of-type {\n",
       "        vertical-align: middle;\n",
       "    }\n",
       "\n",
       "    .dataframe tbody tr th {\n",
       "        vertical-align: top;\n",
       "    }\n",
       "\n",
       "    .dataframe thead th {\n",
       "        text-align: right;\n",
       "    }\n",
       "</style>\n",
       "<table border=\"1\" class=\"dataframe\">\n",
       "  <thead>\n",
       "    <tr style=\"text-align: right;\">\n",
       "      <th></th>\n",
       "      <th>CustomerId</th>\n",
       "      <th>CreditScore</th>\n",
       "      <th>Geography</th>\n",
       "      <th>Gender</th>\n",
       "      <th>Age</th>\n",
       "      <th>Tenure</th>\n",
       "      <th>Balance</th>\n",
       "      <th>NumOfProducts</th>\n",
       "      <th>HasCrCard</th>\n",
       "      <th>IsActiveMember</th>\n",
       "      <th>EstimatedSalary</th>\n",
       "      <th>Exited</th>\n",
       "    </tr>\n",
       "  </thead>\n",
       "  <tbody>\n",
       "    <tr>\n",
       "      <th>5516</th>\n",
       "      <td>15569878</td>\n",
       "      <td>592</td>\n",
       "      <td>France</td>\n",
       "      <td>Male</td>\n",
       "      <td>3.637586</td>\n",
       "      <td>3</td>\n",
       "      <td>96651.03</td>\n",
       "      <td>1</td>\n",
       "      <td>1</td>\n",
       "      <td>1</td>\n",
       "      <td>3232.82</td>\n",
       "      <td>0</td>\n",
       "    </tr>\n",
       "    <tr>\n",
       "      <th>1255</th>\n",
       "      <td>15615032</td>\n",
       "      <td>624</td>\n",
       "      <td>Spain</td>\n",
       "      <td>Male</td>\n",
       "      <td>3.850148</td>\n",
       "      <td>3</td>\n",
       "      <td>0.00</td>\n",
       "      <td>2</td>\n",
       "      <td>1</td>\n",
       "      <td>1</td>\n",
       "      <td>62825.03</td>\n",
       "      <td>0</td>\n",
       "    </tr>\n",
       "    <tr>\n",
       "      <th>4319</th>\n",
       "      <td>15759456</td>\n",
       "      <td>609</td>\n",
       "      <td>Spain</td>\n",
       "      <td>Male</td>\n",
       "      <td>3.555348</td>\n",
       "      <td>7</td>\n",
       "      <td>140694.78</td>\n",
       "      <td>2</td>\n",
       "      <td>1</td>\n",
       "      <td>0</td>\n",
       "      <td>46266.63</td>\n",
       "      <td>0</td>\n",
       "    </tr>\n",
       "    <tr>\n",
       "      <th>9372</th>\n",
       "      <td>15775826</td>\n",
       "      <td>677</td>\n",
       "      <td>France</td>\n",
       "      <td>Male</td>\n",
       "      <td>3.433987</td>\n",
       "      <td>1</td>\n",
       "      <td>78133.15</td>\n",
       "      <td>1</td>\n",
       "      <td>0</td>\n",
       "      <td>1</td>\n",
       "      <td>174225.88</td>\n",
       "      <td>0</td>\n",
       "    </tr>\n",
       "    <tr>\n",
       "      <th>1723</th>\n",
       "      <td>15567422</td>\n",
       "      <td>630</td>\n",
       "      <td>France</td>\n",
       "      <td>Male</td>\n",
       "      <td>3.761200</td>\n",
       "      <td>6</td>\n",
       "      <td>0.00</td>\n",
       "      <td>2</td>\n",
       "      <td>1</td>\n",
       "      <td>0</td>\n",
       "      <td>162697.93</td>\n",
       "      <td>0</td>\n",
       "    </tr>\n",
       "  </tbody>\n",
       "</table>\n",
       "</div>"
      ],
      "text/plain": [
       "      CustomerId  CreditScore Geography Gender       Age  Tenure    Balance  \\\n",
       "5516    15569878          592    France   Male  3.637586       3   96651.03   \n",
       "1255    15615032          624     Spain   Male  3.850148       3       0.00   \n",
       "4319    15759456          609     Spain   Male  3.555348       7  140694.78   \n",
       "9372    15775826          677    France   Male  3.433987       1   78133.15   \n",
       "1723    15567422          630    France   Male  3.761200       6       0.00   \n",
       "\n",
       "      NumOfProducts  HasCrCard  IsActiveMember  EstimatedSalary  Exited  \n",
       "5516              1          1               1          3232.82       0  \n",
       "1255              2          1               1         62825.03       0  \n",
       "4319              2          1               0         46266.63       0  \n",
       "9372              1          0               1        174225.88       0  \n",
       "1723              2          1               0        162697.93       0  "
      ]
     },
     "execution_count": 25,
     "metadata": {},
     "output_type": "execute_result"
    }
   ],
   "source": [
    "train_data.head()"
   ]
  },
  {
   "cell_type": "code",
   "execution_count": 26,
   "id": "2a047dc5",
   "metadata": {
    "execution": {
     "iopub.execute_input": "2024-09-15T22:47:30.143261Z",
     "iopub.status.busy": "2024-09-15T22:47:30.142296Z",
     "iopub.status.idle": "2024-09-15T22:47:30.159546Z",
     "shell.execute_reply": "2024-09-15T22:47:30.158867Z"
    },
    "papermill": {
     "duration": 0.038179,
     "end_time": "2024-09-15T22:47:30.161367",
     "exception": false,
     "start_time": "2024-09-15T22:47:30.123188",
     "status": "completed"
    },
    "tags": []
   },
   "outputs": [],
   "source": [
    "from sklearn.preprocessing import MinMaxScaler\n",
    "from sklearn.preprocessing import StandardScaler\n",
    "\n",
    "min_max_scaler = MinMaxScaler()\n",
    "train_data[feats_min_max_scale] = min_max_scaler.fit_transform(train_data[feats_min_max_scale])\n",
    "validation_data[feats_min_max_scale] = min_max_scaler.transform(validation_data[feats_min_max_scale])\n",
    "\n",
    "\n",
    "\n",
    "std_scaler = StandardScaler()\n",
    "train_data[feats_std_scale] = std_scaler.fit_transform(train_data[feats_std_scale])\n",
    "validation_data[feats_std_scale] = std_scaler.transform(validation_data[feats_std_scale])\n"
   ]
  },
  {
   "cell_type": "code",
   "execution_count": 27,
   "id": "abe4ca54",
   "metadata": {
    "execution": {
     "iopub.execute_input": "2024-09-15T22:47:30.199298Z",
     "iopub.status.busy": "2024-09-15T22:47:30.199008Z",
     "iopub.status.idle": "2024-09-15T22:47:30.213310Z",
     "shell.execute_reply": "2024-09-15T22:47:30.212517Z"
    },
    "papermill": {
     "duration": 0.035484,
     "end_time": "2024-09-15T22:47:30.215291",
     "exception": false,
     "start_time": "2024-09-15T22:47:30.179807",
     "status": "completed"
    },
    "tags": []
   },
   "outputs": [
    {
     "data": {
      "text/html": [
       "<div>\n",
       "<style scoped>\n",
       "    .dataframe tbody tr th:only-of-type {\n",
       "        vertical-align: middle;\n",
       "    }\n",
       "\n",
       "    .dataframe tbody tr th {\n",
       "        vertical-align: top;\n",
       "    }\n",
       "\n",
       "    .dataframe thead th {\n",
       "        text-align: right;\n",
       "    }\n",
       "</style>\n",
       "<table border=\"1\" class=\"dataframe\">\n",
       "  <thead>\n",
       "    <tr style=\"text-align: right;\">\n",
       "      <th></th>\n",
       "      <th>CustomerId</th>\n",
       "      <th>CreditScore</th>\n",
       "      <th>Geography</th>\n",
       "      <th>Gender</th>\n",
       "      <th>Age</th>\n",
       "      <th>Tenure</th>\n",
       "      <th>Balance</th>\n",
       "      <th>NumOfProducts</th>\n",
       "      <th>HasCrCard</th>\n",
       "      <th>IsActiveMember</th>\n",
       "      <th>EstimatedSalary</th>\n",
       "      <th>Exited</th>\n",
       "    </tr>\n",
       "  </thead>\n",
       "  <tbody>\n",
       "    <tr>\n",
       "      <th>5516</th>\n",
       "      <td>15569878</td>\n",
       "      <td>-0.609957</td>\n",
       "      <td>France</td>\n",
       "      <td>Male</td>\n",
       "      <td>0.436447</td>\n",
       "      <td>0.3</td>\n",
       "      <td>0.385220</td>\n",
       "      <td>0.000000</td>\n",
       "      <td>1</td>\n",
       "      <td>1</td>\n",
       "      <td>0.016108</td>\n",
       "      <td>0</td>\n",
       "    </tr>\n",
       "    <tr>\n",
       "      <th>1255</th>\n",
       "      <td>15615032</td>\n",
       "      <td>-0.278558</td>\n",
       "      <td>Spain</td>\n",
       "      <td>Male</td>\n",
       "      <td>0.570288</td>\n",
       "      <td>0.3</td>\n",
       "      <td>0.000000</td>\n",
       "      <td>0.333333</td>\n",
       "      <td>1</td>\n",
       "      <td>1</td>\n",
       "      <td>0.314097</td>\n",
       "      <td>0</td>\n",
       "    </tr>\n",
       "    <tr>\n",
       "      <th>4319</th>\n",
       "      <td>15759456</td>\n",
       "      <td>-0.433901</td>\n",
       "      <td>Spain</td>\n",
       "      <td>Male</td>\n",
       "      <td>0.384665</td>\n",
       "      <td>0.7</td>\n",
       "      <td>0.560765</td>\n",
       "      <td>0.333333</td>\n",
       "      <td>1</td>\n",
       "      <td>0</td>\n",
       "      <td>0.231297</td>\n",
       "      <td>0</td>\n",
       "    </tr>\n",
       "    <tr>\n",
       "      <th>9372</th>\n",
       "      <td>15775826</td>\n",
       "      <td>0.270320</td>\n",
       "      <td>France</td>\n",
       "      <td>Male</td>\n",
       "      <td>0.308249</td>\n",
       "      <td>0.1</td>\n",
       "      <td>0.311414</td>\n",
       "      <td>0.000000</td>\n",
       "      <td>0</td>\n",
       "      <td>1</td>\n",
       "      <td>0.871155</td>\n",
       "      <td>0</td>\n",
       "    </tr>\n",
       "    <tr>\n",
       "      <th>1723</th>\n",
       "      <td>15567422</td>\n",
       "      <td>-0.216421</td>\n",
       "      <td>France</td>\n",
       "      <td>Male</td>\n",
       "      <td>0.514281</td>\n",
       "      <td>0.6</td>\n",
       "      <td>0.000000</td>\n",
       "      <td>0.333333</td>\n",
       "      <td>1</td>\n",
       "      <td>0</td>\n",
       "      <td>0.813509</td>\n",
       "      <td>0</td>\n",
       "    </tr>\n",
       "  </tbody>\n",
       "</table>\n",
       "</div>"
      ],
      "text/plain": [
       "      CustomerId  CreditScore Geography Gender       Age  Tenure   Balance  \\\n",
       "5516    15569878    -0.609957    France   Male  0.436447     0.3  0.385220   \n",
       "1255    15615032    -0.278558     Spain   Male  0.570288     0.3  0.000000   \n",
       "4319    15759456    -0.433901     Spain   Male  0.384665     0.7  0.560765   \n",
       "9372    15775826     0.270320    France   Male  0.308249     0.1  0.311414   \n",
       "1723    15567422    -0.216421    France   Male  0.514281     0.6  0.000000   \n",
       "\n",
       "      NumOfProducts  HasCrCard  IsActiveMember  EstimatedSalary  Exited  \n",
       "5516       0.000000          1               1         0.016108       0  \n",
       "1255       0.333333          1               1         0.314097       0  \n",
       "4319       0.333333          1               0         0.231297       0  \n",
       "9372       0.000000          0               1         0.871155       0  \n",
       "1723       0.333333          1               0         0.813509       0  "
      ]
     },
     "execution_count": 27,
     "metadata": {},
     "output_type": "execute_result"
    }
   ],
   "source": [
    "train_data.head()"
   ]
  },
  {
   "cell_type": "code",
   "execution_count": 28,
   "id": "75223997",
   "metadata": {
    "execution": {
     "iopub.execute_input": "2024-09-15T22:47:30.254238Z",
     "iopub.status.busy": "2024-09-15T22:47:30.253710Z",
     "iopub.status.idle": "2024-09-15T22:47:30.259077Z",
     "shell.execute_reply": "2024-09-15T22:47:30.258254Z"
    },
    "papermill": {
     "duration": 0.026779,
     "end_time": "2024-09-15T22:47:30.260964",
     "exception": false,
     "start_time": "2024-09-15T22:47:30.234185",
     "status": "completed"
    },
    "tags": []
   },
   "outputs": [
    {
     "data": {
      "text/plain": [
       "['Geography', 'Gender']"
      ]
     },
     "execution_count": 28,
     "metadata": {},
     "output_type": "execute_result"
    }
   ],
   "source": [
    "cat_cols"
   ]
  },
  {
   "cell_type": "code",
   "execution_count": 29,
   "id": "2a72409c",
   "metadata": {
    "execution": {
     "iopub.execute_input": "2024-09-15T22:47:30.299108Z",
     "iopub.status.busy": "2024-09-15T22:47:30.298832Z",
     "iopub.status.idle": "2024-09-15T22:47:30.320117Z",
     "shell.execute_reply": "2024-09-15T22:47:30.319238Z"
    },
    "papermill": {
     "duration": 0.042579,
     "end_time": "2024-09-15T22:47:30.322112",
     "exception": false,
     "start_time": "2024-09-15T22:47:30.279533",
     "status": "completed"
    },
    "tags": []
   },
   "outputs": [],
   "source": [
    "from sklearn.preprocessing import LabelEncoder\n",
    "from sklearn.preprocessing import OneHotEncoder\n",
    "label_encoder = LabelEncoder()\n",
    "train_data['Gender'] = label_encoder.fit_transform(train_data['Gender'])\n",
    "validation_data['Gender'] = label_encoder.transform(validation_data['Gender'])\n",
    "\n",
    "one_hot_enc_model = OneHotEncoder(sparse_output = False).fit(train_data[['Geography']])\n",
    "nominal_train_data = one_hot_enc_model.transform(train_data[['Geography']])\n",
    "nominal_val_data = one_hot_enc_model.transform(train_data[['Geography']])\n",
    "\n",
    "a=one_hot_enc_model.categories_\n",
    "col_names=[]\n",
    "for list_ in a:\n",
    "    for element in list_:\n",
    "        col_names.append(element)\n",
    "\n",
    "nominal_train_df = pd.DataFrame(nominal_train_data, columns = col_names)\n",
    "nominal_val_df = pd.DataFrame(nominal_val_data, columns = col_names)\n"
   ]
  },
  {
   "cell_type": "code",
   "execution_count": 30,
   "id": "e18f9423",
   "metadata": {
    "execution": {
     "iopub.execute_input": "2024-09-15T22:47:30.360942Z",
     "iopub.status.busy": "2024-09-15T22:47:30.360448Z",
     "iopub.status.idle": "2024-09-15T22:47:30.372966Z",
     "shell.execute_reply": "2024-09-15T22:47:30.372102Z"
    },
    "papermill": {
     "duration": 0.034203,
     "end_time": "2024-09-15T22:47:30.374858",
     "exception": false,
     "start_time": "2024-09-15T22:47:30.340655",
     "status": "completed"
    },
    "tags": []
   },
   "outputs": [
    {
     "data": {
      "text/html": [
       "<div>\n",
       "<style scoped>\n",
       "    .dataframe tbody tr th:only-of-type {\n",
       "        vertical-align: middle;\n",
       "    }\n",
       "\n",
       "    .dataframe tbody tr th {\n",
       "        vertical-align: top;\n",
       "    }\n",
       "\n",
       "    .dataframe thead th {\n",
       "        text-align: right;\n",
       "    }\n",
       "</style>\n",
       "<table border=\"1\" class=\"dataframe\">\n",
       "  <thead>\n",
       "    <tr style=\"text-align: right;\">\n",
       "      <th></th>\n",
       "      <th>France</th>\n",
       "      <th>Germany</th>\n",
       "      <th>Spain</th>\n",
       "    </tr>\n",
       "  </thead>\n",
       "  <tbody>\n",
       "    <tr>\n",
       "      <th>0</th>\n",
       "      <td>1.0</td>\n",
       "      <td>0.0</td>\n",
       "      <td>0.0</td>\n",
       "    </tr>\n",
       "    <tr>\n",
       "      <th>1</th>\n",
       "      <td>0.0</td>\n",
       "      <td>0.0</td>\n",
       "      <td>1.0</td>\n",
       "    </tr>\n",
       "    <tr>\n",
       "      <th>2</th>\n",
       "      <td>0.0</td>\n",
       "      <td>0.0</td>\n",
       "      <td>1.0</td>\n",
       "    </tr>\n",
       "    <tr>\n",
       "      <th>3</th>\n",
       "      <td>1.0</td>\n",
       "      <td>0.0</td>\n",
       "      <td>0.0</td>\n",
       "    </tr>\n",
       "    <tr>\n",
       "      <th>4</th>\n",
       "      <td>1.0</td>\n",
       "      <td>0.0</td>\n",
       "      <td>0.0</td>\n",
       "    </tr>\n",
       "    <tr>\n",
       "      <th>...</th>\n",
       "      <td>...</td>\n",
       "      <td>...</td>\n",
       "      <td>...</td>\n",
       "    </tr>\n",
       "    <tr>\n",
       "      <th>7995</th>\n",
       "      <td>1.0</td>\n",
       "      <td>0.0</td>\n",
       "      <td>0.0</td>\n",
       "    </tr>\n",
       "    <tr>\n",
       "      <th>7996</th>\n",
       "      <td>0.0</td>\n",
       "      <td>1.0</td>\n",
       "      <td>0.0</td>\n",
       "    </tr>\n",
       "    <tr>\n",
       "      <th>7997</th>\n",
       "      <td>1.0</td>\n",
       "      <td>0.0</td>\n",
       "      <td>0.0</td>\n",
       "    </tr>\n",
       "    <tr>\n",
       "      <th>7998</th>\n",
       "      <td>0.0</td>\n",
       "      <td>1.0</td>\n",
       "      <td>0.0</td>\n",
       "    </tr>\n",
       "    <tr>\n",
       "      <th>7999</th>\n",
       "      <td>1.0</td>\n",
       "      <td>0.0</td>\n",
       "      <td>0.0</td>\n",
       "    </tr>\n",
       "  </tbody>\n",
       "</table>\n",
       "<p>8000 rows × 3 columns</p>\n",
       "</div>"
      ],
      "text/plain": [
       "      France  Germany  Spain\n",
       "0        1.0      0.0    0.0\n",
       "1        0.0      0.0    1.0\n",
       "2        0.0      0.0    1.0\n",
       "3        1.0      0.0    0.0\n",
       "4        1.0      0.0    0.0\n",
       "...      ...      ...    ...\n",
       "7995     1.0      0.0    0.0\n",
       "7996     0.0      1.0    0.0\n",
       "7997     1.0      0.0    0.0\n",
       "7998     0.0      1.0    0.0\n",
       "7999     1.0      0.0    0.0\n",
       "\n",
       "[8000 rows x 3 columns]"
      ]
     },
     "execution_count": 30,
     "metadata": {},
     "output_type": "execute_result"
    }
   ],
   "source": [
    "nominal_train_df"
   ]
  },
  {
   "cell_type": "code",
   "execution_count": 31,
   "id": "cba0e8db",
   "metadata": {
    "execution": {
     "iopub.execute_input": "2024-09-15T22:47:30.413690Z",
     "iopub.status.busy": "2024-09-15T22:47:30.413374Z",
     "iopub.status.idle": "2024-09-15T22:47:30.418621Z",
     "shell.execute_reply": "2024-09-15T22:47:30.417809Z"
    },
    "papermill": {
     "duration": 0.026756,
     "end_time": "2024-09-15T22:47:30.420490",
     "exception": false,
     "start_time": "2024-09-15T22:47:30.393734",
     "status": "completed"
    },
    "tags": []
   },
   "outputs": [
    {
     "data": {
      "text/plain": [
       "(8000, 12)"
      ]
     },
     "execution_count": 31,
     "metadata": {},
     "output_type": "execute_result"
    }
   ],
   "source": [
    "train_data.shape"
   ]
  },
  {
   "cell_type": "code",
   "execution_count": 32,
   "id": "d05ecca9",
   "metadata": {
    "execution": {
     "iopub.execute_input": "2024-09-15T22:47:30.495771Z",
     "iopub.status.busy": "2024-09-15T22:47:30.495164Z",
     "iopub.status.idle": "2024-09-15T22:47:30.503576Z",
     "shell.execute_reply": "2024-09-15T22:47:30.502724Z"
    },
    "papermill": {
     "duration": 0.030689,
     "end_time": "2024-09-15T22:47:30.505509",
     "exception": false,
     "start_time": "2024-09-15T22:47:30.474820",
     "status": "completed"
    },
    "tags": []
   },
   "outputs": [],
   "source": [
    "train_data = train_data.reset_index().drop(columns=['index'])\n",
    "validation_data = validation_data.reset_index().drop(columns=['index'])\n",
    "# this step to can make inner merge"
   ]
  },
  {
   "cell_type": "code",
   "execution_count": 33,
   "id": "8afe92da",
   "metadata": {
    "execution": {
     "iopub.execute_input": "2024-09-15T22:47:30.546283Z",
     "iopub.status.busy": "2024-09-15T22:47:30.545991Z",
     "iopub.status.idle": "2024-09-15T22:47:30.557867Z",
     "shell.execute_reply": "2024-09-15T22:47:30.557000Z"
    },
    "papermill": {
     "duration": 0.033883,
     "end_time": "2024-09-15T22:47:30.559816",
     "exception": false,
     "start_time": "2024-09-15T22:47:30.525933",
     "status": "completed"
    },
    "tags": []
   },
   "outputs": [],
   "source": [
    "train_data = train_data.drop(columns=['Geography','CustomerId']).merge(nominal_train_df , right_index=True , left_index=True, how='inner')\n",
    "validation_data = validation_data.drop(columns=['Geography','CustomerId']).merge(nominal_val_df , right_index=True , left_index=True ,  how='inner')"
   ]
  },
  {
   "cell_type": "code",
   "execution_count": 34,
   "id": "85d39336",
   "metadata": {
    "execution": {
     "iopub.execute_input": "2024-09-15T22:47:30.599145Z",
     "iopub.status.busy": "2024-09-15T22:47:30.598856Z",
     "iopub.status.idle": "2024-09-15T22:47:30.620128Z",
     "shell.execute_reply": "2024-09-15T22:47:30.619282Z"
    },
    "papermill": {
     "duration": 0.042977,
     "end_time": "2024-09-15T22:47:30.622002",
     "exception": false,
     "start_time": "2024-09-15T22:47:30.579025",
     "status": "completed"
    },
    "tags": []
   },
   "outputs": [
    {
     "data": {
      "text/html": [
       "<div>\n",
       "<style scoped>\n",
       "    .dataframe tbody tr th:only-of-type {\n",
       "        vertical-align: middle;\n",
       "    }\n",
       "\n",
       "    .dataframe tbody tr th {\n",
       "        vertical-align: top;\n",
       "    }\n",
       "\n",
       "    .dataframe thead th {\n",
       "        text-align: right;\n",
       "    }\n",
       "</style>\n",
       "<table border=\"1\" class=\"dataframe\">\n",
       "  <thead>\n",
       "    <tr style=\"text-align: right;\">\n",
       "      <th></th>\n",
       "      <th>CreditScore</th>\n",
       "      <th>Gender</th>\n",
       "      <th>Age</th>\n",
       "      <th>Tenure</th>\n",
       "      <th>Balance</th>\n",
       "      <th>NumOfProducts</th>\n",
       "      <th>HasCrCard</th>\n",
       "      <th>IsActiveMember</th>\n",
       "      <th>EstimatedSalary</th>\n",
       "      <th>Exited</th>\n",
       "      <th>France</th>\n",
       "      <th>Germany</th>\n",
       "      <th>Spain</th>\n",
       "    </tr>\n",
       "  </thead>\n",
       "  <tbody>\n",
       "    <tr>\n",
       "      <th>0</th>\n",
       "      <td>-0.609957</td>\n",
       "      <td>1</td>\n",
       "      <td>0.436447</td>\n",
       "      <td>0.3</td>\n",
       "      <td>0.385220</td>\n",
       "      <td>0.000000</td>\n",
       "      <td>1</td>\n",
       "      <td>1</td>\n",
       "      <td>0.016108</td>\n",
       "      <td>0</td>\n",
       "      <td>1.0</td>\n",
       "      <td>0.0</td>\n",
       "      <td>0.0</td>\n",
       "    </tr>\n",
       "    <tr>\n",
       "      <th>1</th>\n",
       "      <td>-0.278558</td>\n",
       "      <td>1</td>\n",
       "      <td>0.570288</td>\n",
       "      <td>0.3</td>\n",
       "      <td>0.000000</td>\n",
       "      <td>0.333333</td>\n",
       "      <td>1</td>\n",
       "      <td>1</td>\n",
       "      <td>0.314097</td>\n",
       "      <td>0</td>\n",
       "      <td>0.0</td>\n",
       "      <td>0.0</td>\n",
       "      <td>1.0</td>\n",
       "    </tr>\n",
       "    <tr>\n",
       "      <th>2</th>\n",
       "      <td>-0.433901</td>\n",
       "      <td>1</td>\n",
       "      <td>0.384665</td>\n",
       "      <td>0.7</td>\n",
       "      <td>0.560765</td>\n",
       "      <td>0.333333</td>\n",
       "      <td>1</td>\n",
       "      <td>0</td>\n",
       "      <td>0.231297</td>\n",
       "      <td>0</td>\n",
       "      <td>0.0</td>\n",
       "      <td>0.0</td>\n",
       "      <td>1.0</td>\n",
       "    </tr>\n",
       "    <tr>\n",
       "      <th>3</th>\n",
       "      <td>0.270320</td>\n",
       "      <td>1</td>\n",
       "      <td>0.308249</td>\n",
       "      <td>0.1</td>\n",
       "      <td>0.311414</td>\n",
       "      <td>0.000000</td>\n",
       "      <td>0</td>\n",
       "      <td>1</td>\n",
       "      <td>0.871155</td>\n",
       "      <td>0</td>\n",
       "      <td>1.0</td>\n",
       "      <td>0.0</td>\n",
       "      <td>0.0</td>\n",
       "    </tr>\n",
       "    <tr>\n",
       "      <th>4</th>\n",
       "      <td>-0.216421</td>\n",
       "      <td>1</td>\n",
       "      <td>0.514281</td>\n",
       "      <td>0.6</td>\n",
       "      <td>0.000000</td>\n",
       "      <td>0.333333</td>\n",
       "      <td>1</td>\n",
       "      <td>0</td>\n",
       "      <td>0.813509</td>\n",
       "      <td>0</td>\n",
       "      <td>1.0</td>\n",
       "      <td>0.0</td>\n",
       "      <td>0.0</td>\n",
       "    </tr>\n",
       "    <tr>\n",
       "      <th>...</th>\n",
       "      <td>...</td>\n",
       "      <td>...</td>\n",
       "      <td>...</td>\n",
       "      <td>...</td>\n",
       "      <td>...</td>\n",
       "      <td>...</td>\n",
       "      <td>...</td>\n",
       "      <td>...</td>\n",
       "      <td>...</td>\n",
       "      <td>...</td>\n",
       "      <td>...</td>\n",
       "      <td>...</td>\n",
       "      <td>...</td>\n",
       "    </tr>\n",
       "    <tr>\n",
       "      <th>7995</th>\n",
       "      <td>-1.262397</td>\n",
       "      <td>0</td>\n",
       "      <td>0.328239</td>\n",
       "      <td>0.7</td>\n",
       "      <td>0.000000</td>\n",
       "      <td>0.333333</td>\n",
       "      <td>1</td>\n",
       "      <td>1</td>\n",
       "      <td>0.878515</td>\n",
       "      <td>0</td>\n",
       "      <td>1.0</td>\n",
       "      <td>0.0</td>\n",
       "      <td>0.0</td>\n",
       "    </tr>\n",
       "    <tr>\n",
       "      <th>7996</th>\n",
       "      <td>-0.330339</td>\n",
       "      <td>0</td>\n",
       "      <td>0.366412</td>\n",
       "      <td>0.3</td>\n",
       "      <td>0.400517</td>\n",
       "      <td>0.333333</td>\n",
       "      <td>0</td>\n",
       "      <td>1</td>\n",
       "      <td>0.182193</td>\n",
       "      <td>0</td>\n",
       "      <td>0.0</td>\n",
       "      <td>1.0</td>\n",
       "      <td>0.0</td>\n",
       "    </tr>\n",
       "    <tr>\n",
       "      <th>7997</th>\n",
       "      <td>-0.754943</td>\n",
       "      <td>1</td>\n",
       "      <td>0.308249</td>\n",
       "      <td>0.4</td>\n",
       "      <td>0.675422</td>\n",
       "      <td>0.000000</td>\n",
       "      <td>1</td>\n",
       "      <td>0</td>\n",
       "      <td>0.560931</td>\n",
       "      <td>0</td>\n",
       "      <td>1.0</td>\n",
       "      <td>0.0</td>\n",
       "      <td>0.0</td>\n",
       "    </tr>\n",
       "    <tr>\n",
       "      <th>7998</th>\n",
       "      <td>-0.661738</td>\n",
       "      <td>0</td>\n",
       "      <td>0.452802</td>\n",
       "      <td>0.0</td>\n",
       "      <td>0.526598</td>\n",
       "      <td>0.333333</td>\n",
       "      <td>0</td>\n",
       "      <td>0</td>\n",
       "      <td>0.158609</td>\n",
       "      <td>0</td>\n",
       "      <td>0.0</td>\n",
       "      <td>1.0</td>\n",
       "      <td>0.0</td>\n",
       "    </tr>\n",
       "    <tr>\n",
       "      <th>7999</th>\n",
       "      <td>-0.226777</td>\n",
       "      <td>1</td>\n",
       "      <td>0.484292</td>\n",
       "      <td>0.9</td>\n",
       "      <td>0.000000</td>\n",
       "      <td>0.000000</td>\n",
       "      <td>1</td>\n",
       "      <td>0</td>\n",
       "      <td>0.000475</td>\n",
       "      <td>0</td>\n",
       "      <td>1.0</td>\n",
       "      <td>0.0</td>\n",
       "      <td>0.0</td>\n",
       "    </tr>\n",
       "  </tbody>\n",
       "</table>\n",
       "<p>8000 rows × 13 columns</p>\n",
       "</div>"
      ],
      "text/plain": [
       "      CreditScore  Gender       Age  Tenure   Balance  NumOfProducts  \\\n",
       "0       -0.609957       1  0.436447     0.3  0.385220       0.000000   \n",
       "1       -0.278558       1  0.570288     0.3  0.000000       0.333333   \n",
       "2       -0.433901       1  0.384665     0.7  0.560765       0.333333   \n",
       "3        0.270320       1  0.308249     0.1  0.311414       0.000000   \n",
       "4       -0.216421       1  0.514281     0.6  0.000000       0.333333   \n",
       "...           ...     ...       ...     ...       ...            ...   \n",
       "7995    -1.262397       0  0.328239     0.7  0.000000       0.333333   \n",
       "7996    -0.330339       0  0.366412     0.3  0.400517       0.333333   \n",
       "7997    -0.754943       1  0.308249     0.4  0.675422       0.000000   \n",
       "7998    -0.661738       0  0.452802     0.0  0.526598       0.333333   \n",
       "7999    -0.226777       1  0.484292     0.9  0.000000       0.000000   \n",
       "\n",
       "      HasCrCard  IsActiveMember  EstimatedSalary  Exited  France  Germany  \\\n",
       "0             1               1         0.016108       0     1.0      0.0   \n",
       "1             1               1         0.314097       0     0.0      0.0   \n",
       "2             1               0         0.231297       0     0.0      0.0   \n",
       "3             0               1         0.871155       0     1.0      0.0   \n",
       "4             1               0         0.813509       0     1.0      0.0   \n",
       "...         ...             ...              ...     ...     ...      ...   \n",
       "7995          1               1         0.878515       0     1.0      0.0   \n",
       "7996          0               1         0.182193       0     0.0      1.0   \n",
       "7997          1               0         0.560931       0     1.0      0.0   \n",
       "7998          0               0         0.158609       0     0.0      1.0   \n",
       "7999          1               0         0.000475       0     1.0      0.0   \n",
       "\n",
       "      Spain  \n",
       "0       0.0  \n",
       "1       1.0  \n",
       "2       1.0  \n",
       "3       0.0  \n",
       "4       0.0  \n",
       "...     ...  \n",
       "7995    0.0  \n",
       "7996    0.0  \n",
       "7997    0.0  \n",
       "7998    0.0  \n",
       "7999    0.0  \n",
       "\n",
       "[8000 rows x 13 columns]"
      ]
     },
     "execution_count": 34,
     "metadata": {},
     "output_type": "execute_result"
    }
   ],
   "source": [
    "train_data"
   ]
  },
  {
   "cell_type": "markdown",
   "id": "d9308781",
   "metadata": {
    "papermill": {
     "duration": 0.019812,
     "end_time": "2024-09-15T22:47:30.661648",
     "exception": false,
     "start_time": "2024-09-15T22:47:30.641836",
     "status": "completed"
    },
    "tags": []
   },
   "source": [
    "# handle unbalanced data by under sampling\n"
   ]
  },
  {
   "cell_type": "code",
   "execution_count": 35,
   "id": "3a1a1b27",
   "metadata": {
    "execution": {
     "iopub.execute_input": "2024-09-15T22:47:30.701581Z",
     "iopub.status.busy": "2024-09-15T22:47:30.701294Z",
     "iopub.status.idle": "2024-09-15T22:47:30.708927Z",
     "shell.execute_reply": "2024-09-15T22:47:30.708127Z"
    },
    "papermill": {
     "duration": 0.029834,
     "end_time": "2024-09-15T22:47:30.710923",
     "exception": false,
     "start_time": "2024-09-15T22:47:30.681089",
     "status": "completed"
    },
    "tags": []
   },
   "outputs": [
    {
     "data": {
      "text/plain": [
       "0.2547051442910916"
      ]
     },
     "execution_count": 35,
     "metadata": {},
     "output_type": "execute_result"
    }
   ],
   "source": [
    "len(train_data[train_data['Exited'] == 1]) / len(train_data[train_data['Exited'] == 0])"
   ]
  },
  {
   "cell_type": "code",
   "execution_count": 36,
   "id": "eabcb761",
   "metadata": {
    "execution": {
     "iopub.execute_input": "2024-09-15T22:47:30.751198Z",
     "iopub.status.busy": "2024-09-15T22:47:30.750917Z",
     "iopub.status.idle": "2024-09-15T22:47:30.775112Z",
     "shell.execute_reply": "2024-09-15T22:47:30.774261Z"
    },
    "papermill": {
     "duration": 0.04662,
     "end_time": "2024-09-15T22:47:30.777022",
     "exception": false,
     "start_time": "2024-09-15T22:47:30.730402",
     "status": "completed"
    },
    "tags": []
   },
   "outputs": [
    {
     "data": {
      "text/html": [
       "<div>\n",
       "<style scoped>\n",
       "    .dataframe tbody tr th:only-of-type {\n",
       "        vertical-align: middle;\n",
       "    }\n",
       "\n",
       "    .dataframe tbody tr th {\n",
       "        vertical-align: top;\n",
       "    }\n",
       "\n",
       "    .dataframe thead th {\n",
       "        text-align: right;\n",
       "    }\n",
       "</style>\n",
       "<table border=\"1\" class=\"dataframe\">\n",
       "  <thead>\n",
       "    <tr style=\"text-align: right;\">\n",
       "      <th></th>\n",
       "      <th>CreditScore</th>\n",
       "      <th>Gender</th>\n",
       "      <th>Age</th>\n",
       "      <th>Tenure</th>\n",
       "      <th>Balance</th>\n",
       "      <th>NumOfProducts</th>\n",
       "      <th>HasCrCard</th>\n",
       "      <th>IsActiveMember</th>\n",
       "      <th>EstimatedSalary</th>\n",
       "      <th>Exited</th>\n",
       "      <th>France</th>\n",
       "      <th>Germany</th>\n",
       "      <th>Spain</th>\n",
       "    </tr>\n",
       "  </thead>\n",
       "  <tbody>\n",
       "    <tr>\n",
       "      <th>7</th>\n",
       "      <td>0.311745</td>\n",
       "      <td>1</td>\n",
       "      <td>0.528757</td>\n",
       "      <td>0.3</td>\n",
       "      <td>0.264405</td>\n",
       "      <td>0.000000</td>\n",
       "      <td>1</td>\n",
       "      <td>1</td>\n",
       "      <td>0.093814</td>\n",
       "      <td>1</td>\n",
       "      <td>1.0</td>\n",
       "      <td>0.0</td>\n",
       "      <td>0.0</td>\n",
       "    </tr>\n",
       "    <tr>\n",
       "      <th>11</th>\n",
       "      <td>-0.247490</td>\n",
       "      <td>0</td>\n",
       "      <td>0.680607</td>\n",
       "      <td>0.6</td>\n",
       "      <td>0.000000</td>\n",
       "      <td>0.000000</td>\n",
       "      <td>0</td>\n",
       "      <td>0</td>\n",
       "      <td>0.459706</td>\n",
       "      <td>1</td>\n",
       "      <td>0.0</td>\n",
       "      <td>0.0</td>\n",
       "      <td>1.0</td>\n",
       "    </tr>\n",
       "    <tr>\n",
       "      <th>12</th>\n",
       "      <td>-0.143928</td>\n",
       "      <td>1</td>\n",
       "      <td>0.308249</td>\n",
       "      <td>0.1</td>\n",
       "      <td>0.486993</td>\n",
       "      <td>0.000000</td>\n",
       "      <td>1</td>\n",
       "      <td>0</td>\n",
       "      <td>0.512823</td>\n",
       "      <td>1</td>\n",
       "      <td>0.0</td>\n",
       "      <td>1.0</td>\n",
       "      <td>0.0</td>\n",
       "    </tr>\n",
       "    <tr>\n",
       "      <th>24</th>\n",
       "      <td>2.061942</td>\n",
       "      <td>0</td>\n",
       "      <td>0.402403</td>\n",
       "      <td>0.2</td>\n",
       "      <td>0.322568</td>\n",
       "      <td>0.000000</td>\n",
       "      <td>0</td>\n",
       "      <td>0</td>\n",
       "      <td>0.063146</td>\n",
       "      <td>1</td>\n",
       "      <td>0.0</td>\n",
       "      <td>1.0</td>\n",
       "      <td>0.0</td>\n",
       "    </tr>\n",
       "    <tr>\n",
       "      <th>31</th>\n",
       "      <td>-0.402833</td>\n",
       "      <td>1</td>\n",
       "      <td>0.366412</td>\n",
       "      <td>0.5</td>\n",
       "      <td>0.276919</td>\n",
       "      <td>0.000000</td>\n",
       "      <td>1</td>\n",
       "      <td>0</td>\n",
       "      <td>0.044815</td>\n",
       "      <td>1</td>\n",
       "      <td>0.0</td>\n",
       "      <td>0.0</td>\n",
       "      <td>1.0</td>\n",
       "    </tr>\n",
       "    <tr>\n",
       "      <th>...</th>\n",
       "      <td>...</td>\n",
       "      <td>...</td>\n",
       "      <td>...</td>\n",
       "      <td>...</td>\n",
       "      <td>...</td>\n",
       "      <td>...</td>\n",
       "      <td>...</td>\n",
       "      <td>...</td>\n",
       "      <td>...</td>\n",
       "      <td>...</td>\n",
       "      <td>...</td>\n",
       "      <td>...</td>\n",
       "      <td>...</td>\n",
       "    </tr>\n",
       "    <tr>\n",
       "      <th>2091</th>\n",
       "      <td>-0.723875</td>\n",
       "      <td>0</td>\n",
       "      <td>0.570288</td>\n",
       "      <td>0.1</td>\n",
       "      <td>0.000000</td>\n",
       "      <td>0.333333</td>\n",
       "      <td>1</td>\n",
       "      <td>0</td>\n",
       "      <td>0.521352</td>\n",
       "      <td>0</td>\n",
       "      <td>0.0</td>\n",
       "      <td>0.0</td>\n",
       "      <td>1.0</td>\n",
       "    </tr>\n",
       "    <tr>\n",
       "      <th>169</th>\n",
       "      <td>-2.080537</td>\n",
       "      <td>1</td>\n",
       "      <td>0.197497</td>\n",
       "      <td>0.9</td>\n",
       "      <td>0.295886</td>\n",
       "      <td>0.333333</td>\n",
       "      <td>0</td>\n",
       "      <td>1</td>\n",
       "      <td>0.977352</td>\n",
       "      <td>0</td>\n",
       "      <td>0.0</td>\n",
       "      <td>0.0</td>\n",
       "      <td>1.0</td>\n",
       "    </tr>\n",
       "    <tr>\n",
       "      <th>725</th>\n",
       "      <td>0.601718</td>\n",
       "      <td>1</td>\n",
       "      <td>0.754770</td>\n",
       "      <td>0.3</td>\n",
       "      <td>0.000000</td>\n",
       "      <td>0.333333</td>\n",
       "      <td>1</td>\n",
       "      <td>1</td>\n",
       "      <td>0.410957</td>\n",
       "      <td>0</td>\n",
       "      <td>0.0</td>\n",
       "      <td>0.0</td>\n",
       "      <td>1.0</td>\n",
       "    </tr>\n",
       "    <tr>\n",
       "      <th>897</th>\n",
       "      <td>-1.987331</td>\n",
       "      <td>1</td>\n",
       "      <td>0.621717</td>\n",
       "      <td>0.5</td>\n",
       "      <td>0.435985</td>\n",
       "      <td>0.000000</td>\n",
       "      <td>1</td>\n",
       "      <td>0</td>\n",
       "      <td>0.778622</td>\n",
       "      <td>0</td>\n",
       "      <td>0.0</td>\n",
       "      <td>1.0</td>\n",
       "      <td>0.0</td>\n",
       "    </tr>\n",
       "    <tr>\n",
       "      <th>3908</th>\n",
       "      <td>0.850267</td>\n",
       "      <td>1</td>\n",
       "      <td>0.419655</td>\n",
       "      <td>0.1</td>\n",
       "      <td>0.000000</td>\n",
       "      <td>0.333333</td>\n",
       "      <td>0</td>\n",
       "      <td>1</td>\n",
       "      <td>0.541883</td>\n",
       "      <td>0</td>\n",
       "      <td>0.0</td>\n",
       "      <td>0.0</td>\n",
       "      <td>1.0</td>\n",
       "    </tr>\n",
       "  </tbody>\n",
       "</table>\n",
       "<p>3218 rows × 13 columns</p>\n",
       "</div>"
      ],
      "text/plain": [
       "      CreditScore  Gender       Age  Tenure   Balance  NumOfProducts  \\\n",
       "7        0.311745       1  0.528757     0.3  0.264405       0.000000   \n",
       "11      -0.247490       0  0.680607     0.6  0.000000       0.000000   \n",
       "12      -0.143928       1  0.308249     0.1  0.486993       0.000000   \n",
       "24       2.061942       0  0.402403     0.2  0.322568       0.000000   \n",
       "31      -0.402833       1  0.366412     0.5  0.276919       0.000000   \n",
       "...           ...     ...       ...     ...       ...            ...   \n",
       "2091    -0.723875       0  0.570288     0.1  0.000000       0.333333   \n",
       "169     -2.080537       1  0.197497     0.9  0.295886       0.333333   \n",
       "725      0.601718       1  0.754770     0.3  0.000000       0.333333   \n",
       "897     -1.987331       1  0.621717     0.5  0.435985       0.000000   \n",
       "3908     0.850267       1  0.419655     0.1  0.000000       0.333333   \n",
       "\n",
       "      HasCrCard  IsActiveMember  EstimatedSalary  Exited  France  Germany  \\\n",
       "7             1               1         0.093814       1     1.0      0.0   \n",
       "11            0               0         0.459706       1     0.0      0.0   \n",
       "12            1               0         0.512823       1     0.0      1.0   \n",
       "24            0               0         0.063146       1     0.0      1.0   \n",
       "31            1               0         0.044815       1     0.0      0.0   \n",
       "...         ...             ...              ...     ...     ...      ...   \n",
       "2091          1               0         0.521352       0     0.0      0.0   \n",
       "169           0               1         0.977352       0     0.0      0.0   \n",
       "725           1               1         0.410957       0     0.0      0.0   \n",
       "897           1               0         0.778622       0     0.0      1.0   \n",
       "3908          0               1         0.541883       0     0.0      0.0   \n",
       "\n",
       "      Spain  \n",
       "7       0.0  \n",
       "11      1.0  \n",
       "12      0.0  \n",
       "24      0.0  \n",
       "31      1.0  \n",
       "...     ...  \n",
       "2091    1.0  \n",
       "169     1.0  \n",
       "725     1.0  \n",
       "897     0.0  \n",
       "3908    1.0  \n",
       "\n",
       "[3218 rows x 13 columns]"
      ]
     },
     "execution_count": 36,
     "metadata": {},
     "output_type": "execute_result"
    }
   ],
   "source": [
    "rare_class_data = train_data[train_data['Exited'] == 1]\n",
    "dominant_class_data = train_data[train_data['Exited'] == 0]\n",
    "under_sample_class = dominant_class_data.sample(frac=.25 , replace=False , random_state=2022)\n",
    "train_data_balnced = pd.concat((rare_class_data , under_sample_class) , axis=0)\n",
    "train_data_balnced"
   ]
  },
  {
   "cell_type": "code",
   "execution_count": 37,
   "id": "99fe55a5",
   "metadata": {
    "execution": {
     "iopub.execute_input": "2024-09-15T22:47:30.818553Z",
     "iopub.status.busy": "2024-09-15T22:47:30.818272Z",
     "iopub.status.idle": "2024-09-15T22:47:30.824866Z",
     "shell.execute_reply": "2024-09-15T22:47:30.824200Z"
    },
    "papermill": {
     "duration": 0.029525,
     "end_time": "2024-09-15T22:47:30.826751",
     "exception": false,
     "start_time": "2024-09-15T22:47:30.797226",
     "status": "completed"
    },
    "tags": []
   },
   "outputs": [],
   "source": [
    "x_train = train_data_balnced.drop(columns=['Exited'])\n",
    "y_train = train_data_balnced['Exited']\n",
    "\n",
    "x_val = validation_data.drop(columns=['Exited'])\n",
    "y_val = validation_data['Exited']"
   ]
  },
  {
   "cell_type": "markdown",
   "id": "6e993ff1",
   "metadata": {
    "papermill": {
     "duration": 0.019721,
     "end_time": "2024-09-15T22:47:30.866926",
     "exception": false,
     "start_time": "2024-09-15T22:47:30.847205",
     "status": "completed"
    },
    "tags": []
   },
   "source": [
    "# Logistic Regression From Scratch"
   ]
  },
  {
   "cell_type": "code",
   "execution_count": 38,
   "id": "6648b0c0",
   "metadata": {
    "execution": {
     "iopub.execute_input": "2024-09-15T22:47:30.908312Z",
     "iopub.status.busy": "2024-09-15T22:47:30.908031Z",
     "iopub.status.idle": "2024-09-15T22:47:30.943323Z",
     "shell.execute_reply": "2024-09-15T22:47:30.942112Z"
    },
    "papermill": {
     "duration": 0.059389,
     "end_time": "2024-09-15T22:47:30.946428",
     "exception": false,
     "start_time": "2024-09-15T22:47:30.887039",
     "status": "completed"
    },
    "tags": []
   },
   "outputs": [],
   "source": [
    "def initialize(x , bais=True):\n",
    "    if bais :\n",
    "        params = np.zeros((x.shape[1]+1 , 1))\n",
    "        x = np.c_[np.ones((x.shape[0],1)) , x]\n",
    "    else:\n",
    "        params = np.zeros((x.shape[1] , 1))\n",
    "        \n",
    "    return params , x\n",
    "\n",
    "def sigmoid(z):\n",
    "    sig = 1/(1+np.e ** (-z))\n",
    "    return sig\n",
    "\n",
    "def fit(x , y , lr=.001 , bais=True , max_itr=100):\n",
    "    params , x = initialize(x,bais)\n",
    "    for i in range(max_itr):\n",
    "        params = params - lr * ((x.T).dot(sigmoid(np.dot(x , params)) - np.reshape(y , (len(y),1))))\n",
    "        \n",
    "    return params\n",
    "\n",
    "def predict(x, optimal_para, bais=True , threshold=.5):\n",
    "    z = np.dot(initialize(x,bais)[1] , optimal_para)\n",
    "    pred=[]\n",
    "    for predicted_value in sigmoid(z):\n",
    "        if predicted_value > threshold:\n",
    "            pred.append(1)\n",
    "        else:\n",
    "            pred.append(0)\n",
    "    return pred\n",
    "    \n",
    "bais = True\n",
    "max_itr = 100\n",
    "lr = .001\n",
    "thershold = 0.5\n",
    "params = fit(x_train , y_train , lr= lr , bais=bais , max_itr=max_itr)"
   ]
  },
  {
   "cell_type": "code",
   "execution_count": 39,
   "id": "a39220e4",
   "metadata": {
    "execution": {
     "iopub.execute_input": "2024-09-15T22:47:31.031696Z",
     "iopub.status.busy": "2024-09-15T22:47:31.031203Z",
     "iopub.status.idle": "2024-09-15T22:47:31.054925Z",
     "shell.execute_reply": "2024-09-15T22:47:31.053819Z"
    },
    "papermill": {
     "duration": 0.070135,
     "end_time": "2024-09-15T22:47:31.058378",
     "exception": false,
     "start_time": "2024-09-15T22:47:30.988243",
     "status": "completed"
    },
    "tags": []
   },
   "outputs": [],
   "source": [
    "train_pred = predict(x_train, params, bais=bais , threshold=thershold)"
   ]
  },
  {
   "cell_type": "code",
   "execution_count": 40,
   "id": "6b4deb03",
   "metadata": {
    "execution": {
     "iopub.execute_input": "2024-09-15T22:47:31.151632Z",
     "iopub.status.busy": "2024-09-15T22:47:31.151026Z",
     "iopub.status.idle": "2024-09-15T22:47:31.166725Z",
     "shell.execute_reply": "2024-09-15T22:47:31.165392Z"
    },
    "papermill": {
     "duration": 0.063614,
     "end_time": "2024-09-15T22:47:31.169180",
     "exception": false,
     "start_time": "2024-09-15T22:47:31.105566",
     "status": "completed"
    },
    "tags": []
   },
   "outputs": [
    {
     "data": {
      "text/plain": [
       "0.629894344313238"
      ]
     },
     "execution_count": 40,
     "metadata": {},
     "output_type": "execute_result"
    }
   ],
   "source": [
    "from sklearn.metrics import accuracy_score\n",
    "accuracy_score(train_pred , y_train)"
   ]
  },
  {
   "cell_type": "code",
   "execution_count": 41,
   "id": "0bfb1d36",
   "metadata": {
    "execution": {
     "iopub.execute_input": "2024-09-15T22:47:31.211053Z",
     "iopub.status.busy": "2024-09-15T22:47:31.210776Z",
     "iopub.status.idle": "2024-09-15T22:47:31.220421Z",
     "shell.execute_reply": "2024-09-15T22:47:31.219512Z"
    },
    "papermill": {
     "duration": 0.032457,
     "end_time": "2024-09-15T22:47:31.222405",
     "exception": false,
     "start_time": "2024-09-15T22:47:31.189948",
     "status": "completed"
    },
    "tags": []
   },
   "outputs": [],
   "source": [
    "val_pred = predict(x_val, params, bais=bais , threshold=thershold)"
   ]
  },
  {
   "cell_type": "code",
   "execution_count": 42,
   "id": "26157ada",
   "metadata": {
    "execution": {
     "iopub.execute_input": "2024-09-15T22:47:31.304433Z",
     "iopub.status.busy": "2024-09-15T22:47:31.304147Z",
     "iopub.status.idle": "2024-09-15T22:47:31.314218Z",
     "shell.execute_reply": "2024-09-15T22:47:31.313182Z"
    },
    "papermill": {
     "duration": 0.056629,
     "end_time": "2024-09-15T22:47:31.317143",
     "exception": false,
     "start_time": "2024-09-15T22:47:31.260514",
     "status": "completed"
    },
    "tags": []
   },
   "outputs": [
    {
     "data": {
      "text/plain": [
       "0.423"
      ]
     },
     "execution_count": 42,
     "metadata": {},
     "output_type": "execute_result"
    }
   ],
   "source": [
    "accuracy_score(val_pred , y_val)"
   ]
  },
  {
   "cell_type": "markdown",
   "id": "9803ae8b",
   "metadata": {
    "papermill": {
     "duration": 0.019952,
     "end_time": "2024-09-15T22:47:31.373181",
     "exception": false,
     "start_time": "2024-09-15T22:47:31.353229",
     "status": "completed"
    },
    "tags": []
   },
   "source": [
    "### accuracy before balance is higher but Misleading , after balance it will we decrease but model will predict more good"
   ]
  },
  {
   "cell_type": "markdown",
   "id": "56bea6f6",
   "metadata": {
    "papermill": {
     "duration": 0.019856,
     "end_time": "2024-09-15T22:47:31.413355",
     "exception": false,
     "start_time": "2024-09-15T22:47:31.393499",
     "status": "completed"
    },
    "tags": []
   },
   "source": [
    "# sklearn model"
   ]
  },
  {
   "cell_type": "code",
   "execution_count": 43,
   "id": "251e109a",
   "metadata": {
    "execution": {
     "iopub.execute_input": "2024-09-15T22:47:31.454586Z",
     "iopub.status.busy": "2024-09-15T22:47:31.454314Z",
     "iopub.status.idle": "2024-09-15T22:47:31.573670Z",
     "shell.execute_reply": "2024-09-15T22:47:31.572140Z"
    },
    "papermill": {
     "duration": 0.143249,
     "end_time": "2024-09-15T22:47:31.576627",
     "exception": false,
     "start_time": "2024-09-15T22:47:31.433378",
     "status": "completed"
    },
    "tags": []
   },
   "outputs": [
    {
     "data": {
      "text/plain": [
       "0.693"
      ]
     },
     "execution_count": 43,
     "metadata": {},
     "output_type": "execute_result"
    }
   ],
   "source": [
    "from sklearn.linear_model import LogisticRegression\n",
    "model = LogisticRegression(max_iter= max_itr , fit_intercept=bais)\n",
    "model.fit(x_train , y_train)\n",
    "y_sklearn_pred = model.predict(x_val)\n",
    "accuracy_score(y_sklearn_pred ,y_val)"
   ]
  },
  {
   "cell_type": "code",
   "execution_count": 44,
   "id": "67815f08",
   "metadata": {
    "execution": {
     "iopub.execute_input": "2024-09-15T22:47:31.669886Z",
     "iopub.status.busy": "2024-09-15T22:47:31.669324Z",
     "iopub.status.idle": "2024-09-15T22:47:31.687648Z",
     "shell.execute_reply": "2024-09-15T22:47:31.686583Z"
    },
    "papermill": {
     "duration": 0.067035,
     "end_time": "2024-09-15T22:47:31.690667",
     "exception": false,
     "start_time": "2024-09-15T22:47:31.623632",
     "status": "completed"
    },
    "tags": []
   },
   "outputs": [
    {
     "data": {
      "text/html": [
       "<div>\n",
       "<style scoped>\n",
       "    .dataframe tbody tr th:only-of-type {\n",
       "        vertical-align: middle;\n",
       "    }\n",
       "\n",
       "    .dataframe tbody tr th {\n",
       "        vertical-align: top;\n",
       "    }\n",
       "\n",
       "    .dataframe thead th {\n",
       "        text-align: right;\n",
       "    }\n",
       "</style>\n",
       "<table border=\"1\" class=\"dataframe\">\n",
       "  <thead>\n",
       "    <tr style=\"text-align: right;\">\n",
       "      <th></th>\n",
       "      <th>predicted_not_churn</th>\n",
       "      <th>predicted_churn</th>\n",
       "    </tr>\n",
       "  </thead>\n",
       "  <tbody>\n",
       "    <tr>\n",
       "      <th>actual_not_churn</th>\n",
       "      <td>465</td>\n",
       "      <td>1122</td>\n",
       "    </tr>\n",
       "    <tr>\n",
       "      <th>actual_churn</th>\n",
       "      <td>32</td>\n",
       "      <td>381</td>\n",
       "    </tr>\n",
       "  </tbody>\n",
       "</table>\n",
       "</div>"
      ],
      "text/plain": [
       "                  predicted_not_churn  predicted_churn\n",
       "actual_not_churn                  465             1122\n",
       "actual_churn                       32              381"
      ]
     },
     "execution_count": 44,
     "metadata": {},
     "output_type": "execute_result"
    }
   ],
   "source": [
    "from sklearn.metrics import confusion_matrix\n",
    "confusion_matrix = pd.DataFrame(confusion_matrix(y_val, val_pred)).rename(index={0:'actual_not_churn' ,1:'actual_churn'},\n",
    "                                                                          columns={0:'predicted_not_churn' ,1:'predicted_churn'})\n",
    "confusion_matrix"
   ]
  },
  {
   "cell_type": "code",
   "execution_count": 45,
   "id": "2e908da7",
   "metadata": {
    "execution": {
     "iopub.execute_input": "2024-09-15T22:47:31.738436Z",
     "iopub.status.busy": "2024-09-15T22:47:31.738168Z",
     "iopub.status.idle": "2024-09-15T22:47:31.743362Z",
     "shell.execute_reply": "2024-09-15T22:47:31.742587Z"
    },
    "papermill": {
     "duration": 0.028831,
     "end_time": "2024-09-15T22:47:31.745203",
     "exception": false,
     "start_time": "2024-09-15T22:47:31.716372",
     "status": "completed"
    },
    "tags": []
   },
   "outputs": [],
   "source": [
    "people_predicted_not_churn = confusion_matrix.iloc[: ,0].sum()\n",
    "people_predicted_churn = confusion_matrix.iloc[: ,1].sum()\n",
    "\n",
    "people_actual_not_churn = confusion_matrix.iloc[0,:].sum()\n",
    "people_actual_churn = confusion_matrix.iloc[1,:].sum()\n"
   ]
  },
  {
   "cell_type": "code",
   "execution_count": 46,
   "id": "6ea262d1",
   "metadata": {
    "execution": {
     "iopub.execute_input": "2024-09-15T22:47:31.787113Z",
     "iopub.status.busy": "2024-09-15T22:47:31.786808Z",
     "iopub.status.idle": "2024-09-15T22:47:31.792363Z",
     "shell.execute_reply": "2024-09-15T22:47:31.791619Z"
    },
    "papermill": {
     "duration": 0.028653,
     "end_time": "2024-09-15T22:47:31.794208",
     "exception": false,
     "start_time": "2024-09-15T22:47:31.765555",
     "status": "completed"
    },
    "tags": []
   },
   "outputs": [],
   "source": [
    "precison_not_churn = confusion_matrix.iloc[0,0] / people_predicted_not_churn\n",
    "precison_churn = confusion_matrix.iloc[1,1] / people_predicted_churn\n",
    "\n",
    "recall_not_churn = confusion_matrix.iloc[0,0] / people_actual_not_churn\n",
    "recall_churn = confusion_matrix.iloc[1,1] / people_actual_churn\n",
    "\n",
    "F1_score_not_churn = 2 * ((precison_not_churn*recall_not_churn)/(precison_not_churn+recall_not_churn))\n",
    "F1_score_churn = 2 * ((precison_churn*recall_churn)/(precison_churn+recall_churn))"
   ]
  },
  {
   "cell_type": "code",
   "execution_count": 47,
   "id": "f4103473",
   "metadata": {
    "execution": {
     "iopub.execute_input": "2024-09-15T22:47:31.836089Z",
     "iopub.status.busy": "2024-09-15T22:47:31.835826Z",
     "iopub.status.idle": "2024-09-15T22:47:31.841261Z",
     "shell.execute_reply": "2024-09-15T22:47:31.840472Z"
    },
    "papermill": {
     "duration": 0.028994,
     "end_time": "2024-09-15T22:47:31.843594",
     "exception": false,
     "start_time": "2024-09-15T22:47:31.814600",
     "status": "completed"
    },
    "tags": []
   },
   "outputs": [
    {
     "name": "stdout",
     "output_type": "stream",
     "text": [
      "people_predicted_not_churn :497\n",
      "people_predicted_churn :1503\n",
      "people_actual_not_churn :1587\n",
      "people_actual_churn :413\n",
      "precison_not_churn :0.9356136820925554\n",
      "precison_churn :0.25349301397205587\n",
      "recall_not_churn: 0.29300567107750475\n",
      "recall_churn : 0.9225181598062954\n",
      "F1_score_not_churn : 0.44625719769673705\n",
      "F1_score_churn : 0.39770354906054284\n"
     ]
    }
   ],
   "source": [
    "print(f\"people_predicted_not_churn :{people_predicted_not_churn}\")\n",
    "print(f\"people_predicted_churn :{people_predicted_churn}\")\n",
    "print(f\"people_actual_not_churn :{people_actual_not_churn}\")\n",
    "print(f\"people_actual_churn :{people_actual_churn}\")\n",
    "print(f\"precison_not_churn :{precison_not_churn}\")\n",
    "print(f\"precison_churn :{precison_churn}\")\n",
    "print(f\"recall_not_churn: {recall_not_churn}\")\n",
    "print(f\"recall_churn : {recall_churn}\")\n",
    "print(f\"F1_score_not_churn : {F1_score_not_churn}\")\n",
    "print(f\"F1_score_churn : {F1_score_churn}\")"
   ]
  },
  {
   "cell_type": "markdown",
   "id": "011d8134",
   "metadata": {
    "papermill": {
     "duration": 0.020611,
     "end_time": "2024-09-15T22:47:31.884667",
     "exception": false,
     "start_time": "2024-09-15T22:47:31.864056",
     "status": "completed"
    },
    "tags": []
   },
   "source": [
    "#####  before balance the data recall churn is bad because i have unbalanced data  so we should balance data before training"
   ]
  },
  {
   "cell_type": "code",
   "execution_count": 48,
   "id": "d18a5db1",
   "metadata": {
    "execution": {
     "iopub.execute_input": "2024-09-15T22:47:31.926800Z",
     "iopub.status.busy": "2024-09-15T22:47:31.926477Z",
     "iopub.status.idle": "2024-09-15T22:47:31.936157Z",
     "shell.execute_reply": "2024-09-15T22:47:31.935314Z"
    },
    "papermill": {
     "duration": 0.033006,
     "end_time": "2024-09-15T22:47:31.938108",
     "exception": false,
     "start_time": "2024-09-15T22:47:31.905102",
     "status": "completed"
    },
    "tags": []
   },
   "outputs": [
    {
     "data": {
      "text/plain": [
       "0.9225181598062954"
      ]
     },
     "execution_count": 48,
     "metadata": {},
     "output_type": "execute_result"
    }
   ],
   "source": [
    "from sklearn.metrics import recall_score\n",
    "recall_score(y_val,val_pred,pos_label=1)"
   ]
  },
  {
   "cell_type": "code",
   "execution_count": 49,
   "id": "4a175dd3",
   "metadata": {
    "execution": {
     "iopub.execute_input": "2024-09-15T22:47:31.980455Z",
     "iopub.status.busy": "2024-09-15T22:47:31.980165Z",
     "iopub.status.idle": "2024-09-15T22:47:31.989952Z",
     "shell.execute_reply": "2024-09-15T22:47:31.989137Z"
    },
    "papermill": {
     "duration": 0.032974,
     "end_time": "2024-09-15T22:47:31.991829",
     "exception": false,
     "start_time": "2024-09-15T22:47:31.958855",
     "status": "completed"
    },
    "tags": []
   },
   "outputs": [
    {
     "data": {
      "text/plain": [
       "0.9356136820925554"
      ]
     },
     "execution_count": 49,
     "metadata": {},
     "output_type": "execute_result"
    }
   ],
   "source": [
    "from sklearn.metrics import precision_score\n",
    "precision_score(y_val,val_pred,pos_label=0)"
   ]
  },
  {
   "cell_type": "code",
   "execution_count": 50,
   "id": "a963da39",
   "metadata": {
    "execution": {
     "iopub.execute_input": "2024-09-15T22:47:32.034665Z",
     "iopub.status.busy": "2024-09-15T22:47:32.034399Z",
     "iopub.status.idle": "2024-09-15T22:47:32.266795Z",
     "shell.execute_reply": "2024-09-15T22:47:32.265915Z"
    },
    "papermill": {
     "duration": 0.256174,
     "end_time": "2024-09-15T22:47:32.268836",
     "exception": false,
     "start_time": "2024-09-15T22:47:32.012662",
     "status": "completed"
    },
    "tags": []
   },
   "outputs": [
    {
     "data": {
      "image/png": "[encoded data removed]",
      "text/plain": [
       "<Figure size 640x480 with 1 Axes>"
      ]
     },
     "metadata": {},
     "output_type": "display_data"
    }
   ],
   "source": [
    "from sklearn.metrics import roc_curve , roc_auc_score\n",
    "y_pred_proba = model.predict_proba(x_val)[::,1]\n",
    "fpr , tpr , thresholds = roc_curve(y_val , y_pred_proba)\n",
    "auc = roc_auc_score(y_val , y_pred_proba)\n",
    "plt.plot(fpr , tpr , label = \"AUC=\"+str(auc))\n",
    "plt.ylabel('tpr')\n",
    "plt.xlabel('fpr')\n",
    "plt.legend(loc = 2)\n",
    "plt.show()"
   ]
  },
  {
   "cell_type": "markdown",
   "id": "238f58bc",
   "metadata": {
    "papermill": {
     "duration": 0.021056,
     "end_time": "2024-09-15T22:47:32.311399",
     "exception": false,
     "start_time": "2024-09-15T22:47:32.290343",
     "status": "completed"
    },
    "tags": []
   },
   "source": [
    "### if I want recall >= 70% "
   ]
  },
  {
   "cell_type": "code",
   "execution_count": 51,
   "id": "e6c5dc8c",
   "metadata": {
    "execution": {
     "iopub.execute_input": "2024-09-15T22:47:32.355210Z",
     "iopub.status.busy": "2024-09-15T22:47:32.354609Z",
     "iopub.status.idle": "2024-09-15T22:47:32.360933Z",
     "shell.execute_reply": "2024-09-15T22:47:32.360086Z"
    },
    "papermill": {
     "duration": 0.030328,
     "end_time": "2024-09-15T22:47:32.362797",
     "exception": false,
     "start_time": "2024-09-15T22:47:32.332469",
     "status": "completed"
    },
    "tags": []
   },
   "outputs": [
    {
     "data": {
      "text/plain": [
       "0.5132380076541185"
      ]
     },
     "execution_count": 51,
     "metadata": {},
     "output_type": "execute_result"
    }
   ],
   "source": [
    "x = np.where(tpr>=.7)[0][0] # first value\n",
    "thershold_need = thresholds[x]\n",
    "thershold_need\n",
    "# if i take this theshold and put it in my model i will get needed recall\n",
    "#but precsion will decrease "
   ]
  }
 ],
 "metadata": {
  "kaggle": {
   "accelerator": "gpu",
   "dataSources": [
    {
     "datasetId": 5711942,
     "sourceId": 9407461,
     "sourceType": "datasetVersion"
    }
   ],
   "dockerImageVersionId": 30762,
   "isGpuEnabled": true,
   "isInternetEnabled": true,
   "language": "python",
   "sourceType": "notebook"
  },
  "kernelspec": {
   "display_name": "Python 3 (ipykernel)",
   "language": "python",
   "name": "python3"
  },
  "language_info": {
   "codemirror_mode": {
    "name": "ipython",
    "version": 3
   },
   "file_extension": ".py",
   "mimetype": "text/x-python",
   "name": "python",
   "nbconvert_exporter": "python",
   "pygments_lexer": "ipython3",
   "version": "3.10.14"
  },
  "papermill": {
   "default_parameters": {},
   "duration": 12.490654,
   "end_time": "2024-09-15T22:47:32.801715",
   "environment_variables": {},
   "exception": null,
   "input_path": "__notebook__.ipynb",
   "output_path": "__notebook__.ipynb",
   "parameters": {},
   "start_time": "2024-09-15T22:47:20.311061",
   "version": "2.6.0"
  }
 },
 "nbformat": 4,
 "nbformat_minor": 5
}
